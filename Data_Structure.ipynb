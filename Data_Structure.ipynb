{
  "nbformat": 4,
  "nbformat_minor": 0,
  "metadata": {
    "colab": {
      "provenance": [],
      "toc_visible": true
    },
    "kernelspec": {
      "name": "python3",
      "display_name": "Python 3"
    },
    "language_info": {
      "name": "python"
    }
  },
  "cells": [
    {
      "cell_type": "markdown",
      "source": [
        "###Q1 Discuss string slicing and provide examples.\n",
        "Ans: String slicing is a powerful feature in Python that allows you to access a subset of a string. Slicing can be used to extract portions of a string based on specified indices. The syntax for slicing is as follows:\n",
        "string[start:end:step]\n",
        "\n",
        "start: The index where the slice begins (inclusive).\n",
        "\n",
        "end: The index where the slice ends (exclusive).\n",
        "\n",
        "step: The amount by which the index increases. This parameter is optional; the default step is 1.\n",
        "\n",
        "*KEYPOINTS*\n",
        "\n",
        "1. Indices in Python are zero-based, meaning the first character of a string is at index 0.\n",
        "2. Negative indices can be used to slice from the end of the string. For example, -1 refers to the last character, -2 to the second-to-last, and so forth.\n",
        "3. If any of the parameters are omitted, Python will assume default values:\n",
        "(a) Omitting start means it starts from the beginning of the string.\n",
        "(b) Omitting end means it goes until the end of the string.\n",
        "(c) Omitting step means it defaults to 1.\n",
        "\n",
        "*EXAMPLES OF STRING SLICING*\n",
        "\n",
        "Example 1: Basic Slicing\n"
      ],
      "metadata": {
        "id": "OtNV_DXIhzhC"
      }
    },
    {
      "cell_type": "code",
      "source": [
        "text = \"Hello, World!\"\n",
        "# Slicing from index 0 to 5 (exclusive)\n",
        "slice1 = text[0:5]  # Output: 'Hello'\n",
        "print(slice1)"
      ],
      "metadata": {
        "colab": {
          "base_uri": "https://localhost:8080/"
        },
        "collapsed": true,
        "id": "K0OJf-18bqn8",
        "outputId": "6f7f30d4-63f0-4372-b3cd-7d00d907121d"
      },
      "execution_count": null,
      "outputs": [
        {
          "output_type": "stream",
          "name": "stdout",
          "text": [
            "Hello\n"
          ]
        }
      ]
    },
    {
      "cell_type": "markdown",
      "source": [
        "Example 2: Slicing with Default Parameters"
      ],
      "metadata": {
        "id": "L6sCa1Wab2SV"
      }
    },
    {
      "cell_type": "code",
      "source": [
        "# Slicing from the beginning to index 5 (exclusive)\n",
        "slice2 = text[:5]  # Output: 'Hello'\n",
        "print(slice2)\n",
        "\n",
        "# Slicing from index 7 to the end\n",
        "slice3 = text[7:]  # Output: 'World!'\n",
        "print(slice3)"
      ],
      "metadata": {
        "colab": {
          "base_uri": "https://localhost:8080/"
        },
        "id": "c2QLq3t4cEEc",
        "outputId": "03f1434f-2abd-444b-dd49-66b420af6193"
      },
      "execution_count": null,
      "outputs": [
        {
          "output_type": "stream",
          "name": "stdout",
          "text": [
            "Hello\n",
            "World!\n"
          ]
        }
      ]
    },
    {
      "cell_type": "markdown",
      "source": [
        "Example 3: Negative Indices"
      ],
      "metadata": {
        "id": "cX8y7dOXcGN2"
      }
    },
    {
      "cell_type": "code",
      "source": [
        "# Slicing using negative indices\n",
        "slice4 = text[-6:-1]  # Output: 'World'\n",
        "print(slice4)\n",
        "\n",
        "# Slicing the last character\n",
        "slice5 = text[-1]  # Output: '!'\n",
        "print(slice5)"
      ],
      "metadata": {
        "colab": {
          "base_uri": "https://localhost:8080/"
        },
        "id": "je4MimkfcK2X",
        "outputId": "b2cff15f-5246-436c-8f50-d937e452833d"
      },
      "execution_count": null,
      "outputs": [
        {
          "output_type": "stream",
          "name": "stdout",
          "text": [
            "World\n",
            "!\n"
          ]
        }
      ]
    },
    {
      "cell_type": "markdown",
      "source": [
        "Example 4: Slicing with Step"
      ],
      "metadata": {
        "id": "0O03oBbycN2C"
      }
    },
    {
      "cell_type": "code",
      "source": [
        "# Slicing with a step\n",
        "slice6 = text[0:13:2]  # Output: 'Hlo ol!'\n",
        "print(slice6)\n",
        "\n",
        "# Reversing a string using step\n",
        "reverse_text = text[::-1]  # Output: '!dlroW ,olleH'\n",
        "print(reverse_text)"
      ],
      "metadata": {
        "colab": {
          "base_uri": "https://localhost:8080/"
        },
        "id": "ZTek53HqcSas",
        "outputId": "3eaa9e25-46a5-49af-b6c4-0718f58af488"
      },
      "execution_count": null,
      "outputs": [
        {
          "output_type": "stream",
          "name": "stdout",
          "text": [
            "Hlo ol!\n",
            "!dlroW ,olleH\n"
          ]
        }
      ]
    },
    {
      "cell_type": "markdown",
      "source": [
        "Example 5: Full String Slicing"
      ],
      "metadata": {
        "id": "kRgwQecOcYK5"
      }
    },
    {
      "cell_type": "code",
      "source": [
        "# Slicing the entire string\n",
        "slice7 = text[:]  # Output: 'Hello, World!'\n",
        "print(slice7)"
      ],
      "metadata": {
        "colab": {
          "base_uri": "https://localhost:8080/"
        },
        "id": "g6_nFfyucarl",
        "outputId": "e988e5b1-8b08-462b-c5d9-45a677543986"
      },
      "execution_count": null,
      "outputs": [
        {
          "output_type": "stream",
          "name": "stdout",
          "text": [
            "Hello, World!\n"
          ]
        }
      ]
    },
    {
      "cell_type": "markdown",
      "source": [],
      "metadata": {
        "id": "nNuoZWxGcjPX"
      }
    },
    {
      "cell_type": "markdown",
      "source": [
        "###Q2  Explain the key features of lists in Python.\n",
        "Ans: Lists are one of the fundamental data structures in Python, providing a versatile way to store collections of items.\n",
        "Here are the key features of lists in Python:\n",
        "1. Ordered Collection\n",
        "Lists maintain the order of elements. This means that items are stored in the sequence they are added, and you can access them by their index.\n",
        "2. Mutable\n",
        "Lists are mutable, meaning you can modify them after their creation. You can add, remove, or change elements within a list.\n",
        "3. Dynamic Size\n",
        "The size of a list can change dynamically. You can append new elements to a list, and it will automatically allocate more memory as needed.\n",
        "4. Heterogeneous Elements\n",
        "Lists can contain elements of different data types. For example, you can have integers, strings, floats, and even other lists within a single list.\n",
        "5. Indexing and Slicing\n",
        "You can access elements in a list using indexing (e.g., my_list[0] for the first element) and slicing (e.g., my_list[1:3] to get a sublist of elements).\n",
        "6. Support for Nested Lists\n",
        "Lists can contain other lists as elements, allowing for the creation of complex data structures like matrices or multidimensional arrays.\n",
        "7. Common Methods\n",
        "Python lists come with a variety of built-in methods, including:\n",
        "\n",
        "append(): Adds an element to the end of the list.\n",
        "\n",
        "insert(): Inserts an element at a specified index.\n",
        "\n",
        "remove(): Removes the first occurrence of a specified value.\n",
        "\n",
        "pop(): Removes and returns an element at a given index (default is the last item).\n",
        "\n",
        "sort(): Sorts the elements of the list in place.\n",
        "\n",
        "reverse(): Reverses the order of elements in the list.\n",
        "8. List Comprehensions\n",
        "Python provides a concise way to create lists using list comprehensions, which allow for generating lists based on existing lists or other iterables in a single line of code. For example:\n",
        "\n",
        "squares = [x**2 for x in range(10)]  # Creates a list of squares from 0 to 9\n",
        "9. Iteration\n",
        "Lists can be easily iterated over using loops, such as for loops, allowing you to access each element in sequence.\n",
        "10. Support for Membership Testing\n",
        "You can check if an item exists in a list using the in keyword, which is very useful for membership testing."
      ],
      "metadata": {
        "id": "44OmvXsYc34Z"
      }
    },
    {
      "cell_type": "markdown",
      "source": [
        "###Q3 Describe how to access, modify, and delete elements in a list with examples.\n",
        "Ans:  lists are a versatile data structure that allows you to store collections of items. We can access, modify, and delete elements from a list using various methods. Here’s a detailed guide with examples for each operation.\n",
        "\n",
        "1. Accessing Elements in a List:\n",
        "\n",
        "We can access elements in a list using indexing. Python uses zero-based indexing, meaning the first element is at index 0.\n",
        "\n",
        "Example:"
      ],
      "metadata": {
        "id": "d0B4vZv4e7EH"
      }
    },
    {
      "cell_type": "code",
      "source": [
        "# Creating a list\n",
        "fruits = ['apple', 'banana', 'cherry', 'date']\n",
        "\n",
        "# Accessing elements\n",
        "print(fruits[0])  # Output: apple\n",
        "print(fruits[1])  # Output: banana\n",
        "print(fruits[-1]) # Output: date (last element)"
      ],
      "metadata": {
        "id": "XM2mFszDhq1V"
      },
      "execution_count": null,
      "outputs": []
    },
    {
      "cell_type": "markdown",
      "source": [
        "2. Modifying Elements in a List:\n",
        "\n",
        "We can modify an element in a list by accessing it via its index and assigning a new value.\n",
        "\n",
        "Example:"
      ],
      "metadata": {
        "id": "WbrcA0iSht7T"
      }
    },
    {
      "cell_type": "code",
      "source": [
        "# Modifying an element\n",
        "fruits[2] = 'orange'  # Change 'cherry' to 'orange'\n",
        "print(fruits)  # Output: ['apple', 'banana', 'orange', 'date']"
      ],
      "metadata": {
        "id": "NfrBK1D8h7rd"
      },
      "execution_count": null,
      "outputs": []
    },
    {
      "cell_type": "markdown",
      "source": [
        "We can also modify multiple elements using slicing.\n",
        "\n",
        "Example:"
      ],
      "metadata": {
        "id": "S6i6tvMDiC-M"
      }
    },
    {
      "cell_type": "code",
      "source": [
        "# Modifying multiple elements\n",
        "fruits[1:3] = ['blueberry', 'kiwi']  # Replace 'banana' and 'orange'\n",
        "print(fruits)  # Output: ['apple', 'blueberry', 'kiwi', 'date']"
      ],
      "metadata": {
        "id": "hgwoq-2viUry"
      },
      "execution_count": null,
      "outputs": []
    },
    {
      "cell_type": "markdown",
      "source": [
        "3. Deleting Elements in a List:\n",
        "\n",
        "We can delete elements from a list using the del statement, the remove() method, or the pop() method.\n",
        "\n",
        "Example using del:"
      ],
      "metadata": {
        "id": "8ZGA9ItFjQJz"
      }
    },
    {
      "cell_type": "code",
      "source": [
        "# Deleting an element by index\n",
        "del fruits[1]  # Remove 'blueberry'\n",
        "print(fruits)  # Output: ['apple', 'kiwi', 'date']"
      ],
      "metadata": {
        "id": "z_r9_f2djeE7"
      },
      "execution_count": null,
      "outputs": []
    },
    {
      "cell_type": "markdown",
      "source": [
        "Example using remove():"
      ],
      "metadata": {
        "id": "Gi4w3RJhjf8w"
      }
    },
    {
      "cell_type": "code",
      "source": [
        "# Deleting an element by value\n",
        "fruits.remove('kiwi')  # Remove 'kiwi'\n",
        "print(fruits)  # Output: ['apple', 'date']"
      ],
      "metadata": {
        "id": "GVHHt2QvlkpS"
      },
      "execution_count": null,
      "outputs": []
    },
    {
      "cell_type": "markdown",
      "source": [
        "Example using pop():"
      ],
      "metadata": {
        "id": "Q18tZVdTloCF"
      }
    },
    {
      "cell_type": "code",
      "source": [
        "# Deleting the last element and returning it\n",
        "last_fruit = fruits.pop()  # Remove and return the last item\n",
        "print(last_fruit)  # Output: date\n",
        "print(fruits)  # Output: ['apple']"
      ],
      "metadata": {
        "id": "QUgYLkF9lsPm"
      },
      "execution_count": null,
      "outputs": []
    },
    {
      "cell_type": "markdown",
      "source": [
        "*Summary of Operations*\n",
        "\n",
        "Accessing: Use indexing (e.g., list[index]) to retrieve elements.\n",
        "\n",
        "Modifying: Assign a new value using indexing (e.g., list[index] = new_value).\n",
        "\n",
        "Deleting: Use del, remove(), or pop() to delete elements."
      ],
      "metadata": {
        "id": "WOLNDcUvluqK"
      }
    },
    {
      "cell_type": "markdown",
      "source": [
        "###Q4 Compare and contrast tuples and lists with examples.\n",
        "Ans: 1. *DEFINITION*\n",
        "\n",
        "--> List: A mutable, ordered collection of items that can be changed after creation.\n",
        "\n",
        "--> Tuple: An immutable, ordered collection of items that cannot be modified after creation.\n",
        "2. *SYNTAX*\n",
        "\n",
        "--> List: Defined using square brackets [].\n",
        "\n",
        "--> Tuple: Defined using parentheses ().\n",
        "\n",
        "3. *MUTABILITY*\n",
        "\n",
        "--> List: Items can be added, removed, or changed.\n",
        "\n",
        "--> Tuple: Items cannot be changed once the tuple is created.\n",
        "4. *PERFORMANCE*\n",
        "\n",
        "--> List: Generally slower than tuples for certain operations due to their mutability.\n",
        "\n",
        "--> Tuple: Faster than lists for operations that involve iteration or access, due to their immutability.\n",
        "5. *USE CASES*\n",
        "\n",
        "--> List: Ideal for collections of items that may need to change, such as maintaining a dynamic list of tasks.\n",
        "\n",
        "--> Tuple: Suitable for fixed collections of items, such as coordinates or RGB color values.\n",
        "6. *METHODS*\n",
        "\n",
        "--> List: Has many built-in methods, including append(), remove(), pop(), sort(), etc.\n",
        "\n",
        "--> Tuple: Has fewer methods, mainly count() and index().\n",
        "7. *MEMORY USAGE*\n",
        "\n",
        "--> List: Typically uses more memory because of its dynamic nature.\n",
        "\n",
        "--> Tuple: More memory efficient, which can be a consideration for large collections.\n",
        "\n",
        "###*EXAMPLES*\n",
        "Creating a List:"
      ],
      "metadata": {
        "id": "vr_TjAunl6-y"
      }
    },
    {
      "cell_type": "code",
      "source": [
        "my_list = [1, 2, 3, 4]\n",
        "print(my_list)  # Output: [1, 2, 3, 4]\n",
        "\n",
        "# Modifying a List\n",
        "my_list.append(5)\n",
        "print(my_list)  # Output: [1, 2, 3, 4, 5]"
      ],
      "metadata": {
        "id": "eZOGXrRVuBJD"
      },
      "execution_count": null,
      "outputs": []
    },
    {
      "cell_type": "markdown",
      "source": [
        "Creating a Tuple:"
      ],
      "metadata": {
        "id": "rhPTxELfuVAT"
      }
    },
    {
      "cell_type": "code",
      "source": [
        "my_tuple = (1, 2, 3, 4)\n",
        "print(my_tuple)  # Output: (1, 2, 3, 4)\n",
        "\n",
        "# Attempting to modify a Tuple (will raise an error)\n",
        "# my_tuple.append(5)  # This will raise an AttributeError"
      ],
      "metadata": {
        "id": "wM7ycYsluX4H"
      },
      "execution_count": null,
      "outputs": []
    },
    {
      "cell_type": "markdown",
      "source": [
        "KEY DIFFERENCES IN ACTION:\n",
        "\n",
        "1. LISTS"
      ],
      "metadata": {
        "id": "0SG45SydudUF"
      }
    },
    {
      "cell_type": "code",
      "source": [
        "# Lists are mutable\n",
        "fruits = ['apple', 'banana', 'cherry']\n",
        "fruits[1] = 'blueberry'  # Change 'banana' to 'blueberry'\n",
        "print(fruits)  # Output: ['apple', 'blueberry', 'cherry']\n",
        "\n",
        "fruits.append('date')  # Add a new fruit\n",
        "print(fruits)  # Output: ['apple', 'blueberry', 'cherry', 'date']"
      ],
      "metadata": {
        "id": "_WFiDHGVukQP"
      },
      "execution_count": null,
      "outputs": []
    },
    {
      "cell_type": "markdown",
      "source": [
        "2. TUPLES"
      ],
      "metadata": {
        "id": "VEOzowZ9uqo2"
      }
    },
    {
      "cell_type": "code",
      "source": [
        "# Tuples are immutable\n",
        "colors = ('red', 'green', 'blue')\n",
        "# colors[1] = 'yellow'  # This will raise a TypeError\n",
        "\n",
        "# Tuples can be concatenated but not modified\n",
        "new_colors = colors + ('yellow',)\n",
        "print(new_colors)  # Output: ('red', 'green', 'blue', 'yellow')"
      ],
      "metadata": {
        "id": "DxuBBqReutGD"
      },
      "execution_count": null,
      "outputs": []
    },
    {
      "cell_type": "markdown",
      "source": [
        "###Q5 Describe the key features of sets and provide examples of their use.\n",
        "Ans: Sets are a fundamental data structure in mathematics and computer science that represent a collection of unique elements. Here are the key features of sets, along with examples of their use:\n",
        "\n",
        "###*Key Features of Sets*\n",
        "1. Uniqueness:\n",
        "\n",
        "Each element in a set is unique; duplicates are not allowed. If an attempt is made to add a duplicate element, it will be ignored.\n",
        "\n",
        "Example: In a set of integers {1, 2, 3, 2}, the set will only contain {1, 2, 3}.\n",
        "\n",
        "2. Unordered:\n",
        "\n",
        "Sets do not maintain any particular order for their elements. The order in which elements are added does not matter.\n",
        "\n",
        "Example: The set {3, 1, 2} is considered the same as {1, 2, 3}.\n",
        "\n",
        "3. Mutability:\n",
        "\n",
        "Sets can be mutable or immutable depending on the programming language. In languages like Python, a set is mutable, while an frozenset is immutable.\n",
        "\n",
        "Example: We can create a mutable set: s = {1, 2, 3} and then modify it with s.add(4), resulting in {1, 2, 3, 4}. An immutable version would be fs = frozenset(s).\n",
        "\n",
        "4. Operations:\n",
        "\n",
        "Sets support various mathematical operations such as union, intersection, difference, and symmetric difference.\n",
        "\n",
        "(A) Union:\n",
        "\n",
        "Combines all unique elements from both sets.\n",
        "\n",
        "Example: {1, 2, 3} ∪ {3, 4, 5} = {1, 2, 3, 4, 5}\n",
        "\n",
        "(B) Intersection:\n",
        "\n",
        " Returns elements common to both sets.\n",
        "\n",
        "Example: {1, 2, 3} ∩ {2, 3, 4} = {2, 3}\n",
        "\n",
        "(C) Difference:\n",
        "\n",
        "Elements in one set but not in the other.\n",
        "\n",
        "Example: {1, 2, 3} - {2, 3, 4} = {1}\n",
        "\n",
        "(D) Symmetric Difference:\n",
        "\n",
        "Elements in either of the sets but not in their intersection.\n",
        "\n",
        "Example: {1, 2, 3} Δ {2, 3, 4} = {1, 4}\n",
        "\n",
        "5. Membership Testing:\n",
        "\n",
        "Sets provide efficient membership testing, allowing for fast checks to see if an element exists within the set.\n",
        "\n",
        "Example: In Python, you can check membership with 2 in {1, 2, 3} which returns True.\n",
        "\n",
        "6. Subset and Superset:\n",
        "\n",
        "Sets can be checked to determine if one set is a subset or superset of another.\n",
        "\n",
        "Example: {1, 2} ⊆ {1, 2, 3} (true), and {1, 2, 3} ⊇ {1, 2} (true).\n",
        "\n",
        "###*EXAMPLES OF USE*\n",
        "\n",
        "1. Data Management:\n",
        "\n",
        "Sets are useful for storing collections of items where duplicates are not allowed, such as a list of registered users or unique tags in a blog.\n",
        "Example: A user may have a set of favorite genres: {\"fiction\", \"science\", \"history\"}.\n",
        "\n",
        "2. Mathematical Operations:\n",
        "\n",
        "In mathematical computations, sets are employed for operations like finding common elements in datasets.\n",
        "Example: In a class project, students can use sets to find common topics between two different research groups.\n",
        "\n",
        "3. Database Operations:\n",
        "\n",
        "Sets are often used in database queries, such as when finding unique values in a column.\n",
        "Example: Selecting distinct cities from a database: SELECT DISTINCT city FROM locations;\n",
        "\n",
        "4. Graph Theory:\n",
        "\n",
        "Sets can represent vertices or edges in graph structures, aiding in various algorithms.\n",
        "Example: In a network of friends, a set can represent unique friends: {\"Alice\", \"Bob\", \"Charlie\"}.\n",
        "\n",
        "5. Computer Science Applications:\n",
        "\n",
        "Sets are utilized in algorithms for tasks like deduplication, pattern recognition, and clustering.\n",
        "Example: Removing duplicates from a list of email addresses: set([\"a@example.com\", \"b@example.com\", \"a@example.com\"]) results in {\"a@example.com\", \"b@example.com\"}."
      ],
      "metadata": {
        "id": "VReyAn9kv9Q2"
      }
    },
    {
      "cell_type": "markdown",
      "source": [
        "###Q6 Discuss the use cases of tuples and sets in Python programming.\n",
        "Ans: Tuples and sets are both essential data structures in Python, each with unique characteristics and use cases. Here’s a detailed discussion of their properties, differences, and common scenarios where each is best utilized.\n",
        "\n",
        "###*TUPLES*\n",
        "Characteristics:\n",
        "\n",
        "1. Immutable: Once a tuple is created, its elements cannot be modified, added, or removed. This immutability can be beneficial for data integrity.\n",
        "2. Ordered: Tuples maintain the order of elements, meaning you can access elements by their position (index).\n",
        "3. Heterogeneous: Tuples can contain elements of different data types, including other tuples.\n",
        "4. Hashable: Because they are immutable, tuples can be used as keys in dictionaries or elements in sets.\n",
        "\n",
        "Use Cases:\n",
        "1. Returning Multiple Values:\n",
        "\n",
        "Functions can return multiple values as a tuple. This is a common pattern in Python."
      ],
      "metadata": {
        "id": "EbfOIKd4yXAC"
      }
    },
    {
      "cell_type": "code",
      "source": [
        "def get_coordinates():\n",
        "    return (10.0, 20.0)\n",
        "\n",
        "x, y = get_coordinates()"
      ],
      "metadata": {
        "id": "VUTPzPLA0a10"
      },
      "execution_count": null,
      "outputs": []
    },
    {
      "cell_type": "markdown",
      "source": [
        "2. Data Integrity:\n",
        "\n",
        "Tuples can be used to represent fixed collections of items, such as a coordinate point (x, y) or RGB color values, ensuring that the data remains unchanged throughout the program.\n",
        "3. Storing Records:\n",
        "\n",
        "Tuples are suitable for storing records, especially when the structure of the data is fixed and known beforehand (e.g., a database record with a fixed number of fields).\n",
        "4. Use as Dictionary Keys:\n",
        "\n",
        "Since tuples are hashable, they can be used as keys in dictionaries, allowing for composite keys."
      ],
      "metadata": {
        "id": "Mcknzueq0dOi"
      }
    },
    {
      "cell_type": "code",
      "source": [
        "location_data = {\n",
        "    (35.6895, 139.6917): \"Tokyo\",\n",
        "    (48.8566, 2.3522): \"Paris\"\n",
        "}"
      ],
      "metadata": {
        "id": "23gs79_i0pI0"
      },
      "execution_count": null,
      "outputs": []
    },
    {
      "cell_type": "markdown",
      "source": [
        "###*SETS*\n",
        "Characteristics:\n",
        "1. Mutable: Sets are mutable, meaning you can add or remove elements after the set has been created.\n",
        "2. Unordered: Sets do not maintain the order of elements. You cannot access elements by index.\n",
        "3. Unique Elements: Sets automatically enforce uniqueness, meaning duplicate elements are not allowed.\n",
        "4. Hashable Elements: Only immutable (hashable) types can be included in a set.\n",
        "\n",
        "Use Cases:\n",
        "\n",
        "1. Membership Testing:\n",
        "\n",
        "Sets provide an efficient way to test for membership (i.e., checking if an element exists in the set) due to their underlying hash table implementation."
      ],
      "metadata": {
        "id": "9UcwGSyc0qbp"
      }
    },
    {
      "cell_type": "code",
      "source": [
        "my_set = {1, 2, 3, 4}\n",
        "if 3 in my_set:\n",
        "    print(\"Found 3!\")"
      ],
      "metadata": {
        "id": "vn81_mng1hRn"
      },
      "execution_count": null,
      "outputs": []
    },
    {
      "cell_type": "markdown",
      "source": [
        "2. Removing Duplicates:\n",
        "\n",
        "Sets can be used to remove duplicates from a list or any iterable by converting it to a set and back to a list if needed."
      ],
      "metadata": {
        "id": "2zUVRptx1kB7"
      }
    },
    {
      "cell_type": "code",
      "source": [
        "my_list = [1, 2, 2, 3, 4, 4]\n",
        "unique_list = list(set(my_list))  # [1, 2, 3, 4]"
      ],
      "metadata": {
        "id": "cCbK4soL1pNI"
      },
      "execution_count": null,
      "outputs": []
    },
    {
      "cell_type": "markdown",
      "source": [
        "3. Set Operations:\n",
        "\n",
        "Sets support mathematical operations such as union, intersection, difference, and symmetric difference, making them ideal for tasks involving comparisons between groups of items."
      ],
      "metadata": {
        "id": "y4-OaGFf1sn6"
      }
    },
    {
      "cell_type": "code",
      "source": [
        "set_a = {1, 2, 3}\n",
        "set_b = {2, 3, 4}\n",
        "union = set_a | set_b  # {1, 2, 3, 4}\n",
        "intersection = set_a & set_b  # {2, 3}"
      ],
      "metadata": {
        "id": "xKF1xrSb1zn3"
      },
      "execution_count": null,
      "outputs": []
    },
    {
      "cell_type": "markdown",
      "source": [
        "4. Tracking Unique Items:\n",
        "\n",
        "Use sets when you need to track unique items, such as user IDs, product IDs, etc., without worrying about duplicates.\n",
        "5. Mathematical and Statistical Operations:\n",
        "\n",
        "Sets can be used in scenarios that require mathematical reasoning, such as determining common or unique items among multiple groups."
      ],
      "metadata": {
        "id": "T_oU3p_g136i"
      }
    },
    {
      "cell_type": "markdown",
      "source": [
        "###Q7 Describe how to add, modify, and delete items in a dictionary with examples.\n",
        "Ans: Dictionaries are mutable data structures that allow you to store key-value pairs. You can easily add, modify, and delete items in a dictionary using various methods. Here’s how we can do each of these operations, with examples:\n",
        "\n",
        "1. Adding Items to a Dictionary\n",
        "\n",
        "To add an item to a dictionary, you can simply assign a value to a new key."
      ],
      "metadata": {
        "id": "R531gZg62AjB"
      }
    },
    {
      "cell_type": "code",
      "source": [
        "# Creating an empty dictionary\n",
        "my_dict = {}\n",
        "\n",
        "# Adding items\n",
        "my_dict['name'] = 'Alice'\n",
        "my_dict['age'] = 30\n",
        "my_dict['city'] = 'New York'\n",
        "\n",
        "print(my_dict)\n",
        "# Output: {'name': 'Alice', 'age': 30, 'city': 'New York'}"
      ],
      "metadata": {
        "id": "CfQMVClF3gCN"
      },
      "execution_count": null,
      "outputs": []
    },
    {
      "cell_type": "markdown",
      "source": [
        "2. Modifying Items in a Dictionary\n",
        "\n",
        "To modify an existing item, assign a new value to an existing key."
      ],
      "metadata": {
        "id": "vGl0RvLb3iRW"
      }
    },
    {
      "cell_type": "code",
      "source": [
        "# Modifying an existing item\n",
        "my_dict['age'] = 31  # Update age\n",
        "\n",
        "print(my_dict)\n",
        "# Output: {'name': 'Alice', 'age': 31, 'city': 'New York'}"
      ],
      "metadata": {
        "id": "HYtdJIvz30pE"
      },
      "execution_count": null,
      "outputs": []
    },
    {
      "cell_type": "markdown",
      "source": [
        "You can also modify multiple items at once using the update() method."
      ],
      "metadata": {
        "id": "HxoYsjLS4two"
      }
    },
    {
      "cell_type": "code",
      "source": [
        "# Modifying multiple items\n",
        "my_dict.update({'city': 'Los Angeles', 'job': 'Engineer'})\n",
        "\n",
        "print(my_dict)\n",
        "# Output: {'name': 'Alice', 'age': 31, 'city': 'Los Angeles', 'job': 'Engineer'}"
      ],
      "metadata": {
        "id": "RYg1ErBc4vD4"
      },
      "execution_count": null,
      "outputs": []
    },
    {
      "cell_type": "markdown",
      "source": [
        "3. Deleting Items from a Dictionary\n",
        "\n",
        "To delete an item, you can use the del statement or the pop() method."
      ],
      "metadata": {
        "id": "Gfbyr_9Y4yCu"
      }
    },
    {
      "cell_type": "code",
      "source": [
        "# Deleting an item using del\n",
        "del my_dict['job']\n",
        "\n",
        "print(my_dict)\n",
        "# Output: {'name': 'Alice', 'age': 31, 'city': 'Los Angeles'}"
      ],
      "metadata": {
        "id": "qBsNB49g44OI"
      },
      "execution_count": null,
      "outputs": []
    },
    {
      "cell_type": "markdown",
      "source": [
        "Example using pop():\n",
        "\n",
        "The pop() method removes an item and returns its value."
      ],
      "metadata": {
        "id": "siP8T-_a4_4j"
      }
    },
    {
      "cell_type": "code",
      "source": [
        "# Deleting an item using pop\n",
        "age = my_dict.pop('age')\n",
        "\n",
        "print(my_dict)\n",
        "# Output: {'name': 'Alice', 'city': 'Los Angeles'}\n",
        "print('Deleted age:', age)\n",
        "# Output: Deleted age: 31"
      ],
      "metadata": {
        "id": "Gy-7uDCZ5CuT"
      },
      "execution_count": null,
      "outputs": []
    },
    {
      "cell_type": "markdown",
      "source": [
        "4. Clearing All Items in a Dictionary\n",
        "\n",
        "If you want to remove all items from the dictionary, you can use the clear() method."
      ],
      "metadata": {
        "id": "Dr_2BhVL6rF-"
      }
    },
    {
      "cell_type": "code",
      "source": [
        "# Clearing the entire dictionary\n",
        "my_dict.clear()\n",
        "\n",
        "print(my_dict)\n",
        "# Output: {}"
      ],
      "metadata": {
        "id": "DYJJSnx27eK8"
      },
      "execution_count": null,
      "outputs": []
    },
    {
      "cell_type": "markdown",
      "source": [
        "###Q8  Discuss the importance of dictionary keys being immutable and provide examples.\n",
        "Ans: Dictionary keys must be immutable types. This requirement is essential for several reasons:\n",
        "\n",
        "1. Hashability\n",
        "\n",
        "* Definition: Hashability means that an object has a hash value that\n",
        "remains constant during its lifetime. Immutable objects, such as strings, numbers, and tuples, can be hashed, whereas mutable objects (like lists and dictionaries) cannot.\n",
        "\n",
        "* Why It Matters: A dictionary uses a hash table to manage key-value pairs. When you add a key to a dictionary, Python computes its hash value and stores the key-value pair in a specific location in memory. If a mutable object were allowed as a key, and that object changed, its hash value could also change. This would disrupt the integrity of the dictionary, making it impossible to retrieve the associated value.\n",
        "\n",
        "2. Consistency\n",
        "\n",
        "* Accessing Keys: When you retrieve a value from a dictionary using a key, Python relies on the hash of that key to find the correct location in memory. If the key were mutable and changed after being used, the dictionary would not be able to locate the original key's value, leading to inconsistent behavior.\n",
        "\n",
        "3. Design Choice\n",
        "\n",
        "* Predictability: Immutability helps ensure predictable behavior. When keys are immutable, developers can be confident that their keys will remain unchanged throughout their use, reducing potential errors in code logic.\n",
        "\n",
        "###*Examples of Immutable and Mutable Keys*\n",
        "\n",
        "Valid Immutable Keys\n",
        "\n",
        "1. Strings"
      ],
      "metadata": {
        "id": "xO4HWnBz-jZ_"
      }
    },
    {
      "cell_type": "code",
      "source": [
        "my_dict = {\"name\": \"Alice\", \"age\": 30}"
      ],
      "metadata": {
        "id": "f38mAxz8CtY4"
      },
      "execution_count": null,
      "outputs": []
    },
    {
      "cell_type": "markdown",
      "source": [
        "2. Numbers"
      ],
      "metadata": {
        "id": "K5cBKuV2CwtY"
      }
    },
    {
      "cell_type": "code",
      "source": [
        "my_dict = {1: \"one\", 2: \"two\", 3: \"three\"}"
      ],
      "metadata": {
        "id": "lOTeraN4C0BZ"
      },
      "execution_count": null,
      "outputs": []
    },
    {
      "cell_type": "markdown",
      "source": [
        "3. Tuples"
      ],
      "metadata": {
        "id": "1ccmC9MrC2tP"
      }
    },
    {
      "cell_type": "code",
      "source": [
        "my_dict = {(\"x\", \"y\"): \"point\", (1, 2): \"coordinates\"}"
      ],
      "metadata": {
        "id": "yWb-WoZ5C7zB"
      },
      "execution_count": null,
      "outputs": []
    },
    {
      "cell_type": "markdown",
      "source": [
        "Invalid Mutable Keys\n",
        "\n",
        "1. Lists (Mutable)"
      ],
      "metadata": {
        "id": "P8zeCmD6DVD3"
      }
    },
    {
      "cell_type": "code",
      "source": [
        "my_dict = {[1, 2]: \"value\"}  # This will raise a TypeError"
      ],
      "metadata": {
        "id": "lJP_KXbuD7dq"
      },
      "execution_count": null,
      "outputs": []
    },
    {
      "cell_type": "markdown",
      "source": [
        "* Error:"
      ],
      "metadata": {
        "id": "o6sVDvL0EDTd"
      }
    },
    {
      "cell_type": "code",
      "source": [
        "TypeError: unhashable type: 'list'"
      ],
      "metadata": {
        "id": "E-3u-GqREIdb"
      },
      "execution_count": null,
      "outputs": []
    }
  ]
}