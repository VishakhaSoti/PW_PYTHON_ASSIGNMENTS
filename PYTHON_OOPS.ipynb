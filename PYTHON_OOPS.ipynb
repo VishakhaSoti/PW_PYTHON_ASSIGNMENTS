{
  "nbformat": 4,
  "nbformat_minor": 0,
  "metadata": {
    "colab": {
      "provenance": [],
      "toc_visible": true
    },
    "kernelspec": {
      "name": "python3",
      "display_name": "Python 3"
    },
    "language_info": {
      "name": "python"
    }
  },
  "cells": [
    {
      "cell_type": "markdown",
      "source": [
        "###Q1. What are the five key concepts of Object-Oriented Programming (OOP)?\n",
        "Ans. The five key concepts of Object-Oriented Programming (OOP) are:\n",
        "\n",
        "Encapsulation:\n",
        "Encapsulation refers to the bundling of data (attributes) and methods (functions) that operate on that data into a single unit, known as a class. It also involves restricting access to certain components of an object to protect the internal state of the object. This is achieved through access modifiers like private, protected, and public.\n",
        "\n",
        "Abstraction:\n",
        "Abstraction is the process of hiding the complex implementation details and showing only the essential features of an object. It allows a programmer to focus on what an object does rather than how it does it. Abstraction is often implemented through abstract classes and interfaces.\n",
        "\n",
        "Inheritance:\n",
        "Inheritance allows one class (called a subclass or derived class) to inherit properties and behaviors (methods) from another class (called a superclass or base class). This promotes code reuse and establishes a hierarchical relationship between classes. A subclass can also override methods from the superclass or add new methods.\n",
        "\n",
        "Polymorphism:\n",
        "Polymorphism means \"many forms\" and allows objects of different classes to be treated as objects of a common superclass. The most common type of polymorphism is method overriding, where a subclass provides a specific implementation of a method already defined in its superclass. It can also refer to method overloading, where multiple methods with the same name but different parameters can exist in the same class.\n",
        "\n",
        "Association:\n",
        "Association refers to the relationship between two or more objects. It defines how objects are related to one another. There are various types of associations, such as one-to-one, one-to-many, and many-to-many. This concept enables objects to interact with each other and share functionality, forming complex systems.\n",
        "\n",
        "These concepts together enable the creation of more modular, reusable, and maintainable code in OOP.\n",
        "\n",
        "-----\n"
      ],
      "metadata": {
        "id": "b1JgtXR3g2Kh"
      }
    },
    {
      "cell_type": "markdown",
      "source": [
        "###Q2. Write a Python class for a `Car` with attributes for `make`, `model`, and `year`. Include a method to display the car's information.\n",
        "Ans."
      ],
      "metadata": {
        "id": "mrBpfUG5kDKp"
      }
    },
    {
      "cell_type": "code",
      "source": [
        "class Car:\n",
        "\n",
        "    def __init__(self, make, model, year):\n",
        "        \"\"\"Initialize the Car object with make, model, and year.\"\"\"\n",
        "        self.make = make\n",
        "        self.model = model\n",
        "        self.year = year\n",
        "\n",
        "    def display_info(self):\n",
        "        \"\"\"Display the car's information.\"\"\"\n",
        "        print(f\"Car Information: {self.year} {self.make} {self.model}\")\n",
        "\n",
        "# Example usage:\n",
        "car1 = Car(\"Toyota\", \"Corolla\", 2020)\n",
        "car1.display_info()  # Output: Car Information: 2020 Toyota Corolla\n"
      ],
      "metadata": {
        "id": "AQ5riaBTjr28"
      },
      "execution_count": null,
      "outputs": []
    },
    {
      "cell_type": "markdown",
      "source": [
        "------\n",
        "\n",
        "###Q3.  Explain the difference between instance methods and class methods. Provide an example of each.\n",
        "Ans. In Python, instance methods and class methods are two types of methods that are used within a class. The main difference between them lies in how they are bound to the class and how they access class-level data or instance-level data.\n",
        "\n",
        "1. Instance Methods\n",
        "Instance methods are the most common type of methods in Python classes. These methods are defined with def inside a class and always take the instance (self) as the first parameter. This allows them to access and modify instance-specific attributes and methods.\n",
        "\n",
        "Access: They can access both instance attributes (variables) and class attributes (variables).\n",
        "Invocation: They are called on an instance of the class.\n",
        "Use case: Instance methods are used when you need to interact with an individual object's data.\n",
        "\n",
        "Example of an Instance Method:\n"
      ],
      "metadata": {
        "id": "sT770RFgju0E"
      }
    },
    {
      "cell_type": "code",
      "source": [
        "class BankAccount:\n",
        "    def __init__(self, owner, balance=0):\n",
        "        self.owner = owner  # instance attribute\n",
        "        self.balance = balance  # instance attribute\n",
        "\n",
        "    def deposit(self, amount):\n",
        "        \"\"\"Instance method to deposit money into the account.\"\"\"\n",
        "        self.balance += amount\n",
        "        print(f\"{self.owner} deposited ${amount}. Current balance: ${self.balance}\")\n",
        "\n",
        "    def withdraw(self, amount):\n",
        "        \"\"\"Instance method to withdraw money from the account.\"\"\"\n",
        "        if amount <= self.balance:\n",
        "            self.balance -= amount\n",
        "            print(f\"{self.owner} withdrew ${amount}. Current balance: ${self.balance}\")\n",
        "        else:\n",
        "            print(f\"{self.owner} has insufficient funds for withdrawal.\")\n",
        "\n",
        "# Creating an instance of the BankAccount class\n",
        "account = BankAccount(\"Alice\", 500)\n",
        "\n",
        "# Calling instance methods on the object\n",
        "account.deposit(200)\n",
        "account.withdraw(100)"
      ],
      "metadata": {
        "id": "GefQpFfVlQPa"
      },
      "execution_count": null,
      "outputs": []
    },
    {
      "cell_type": "markdown",
      "source": [
        "2. Class Methods\n",
        "Class methods are bound to the class rather than an instance. They are defined using the @classmethod decorator and take the class (cls) as their first parameter instead of the instance (self). Class methods are typically used to operate on class-level data or create alternate constructors.\n",
        "\n",
        "Access: They can access class attributes and modify them, but they cannot access instance-specific attributes unless they are passed explicitly.\n",
        "Invocation: They are called on the class itself, not on an instance of the class.\n",
        "Use case: Class methods are useful for operations that are related to the class itself, rather than a particular instance, such as factory methods or modifying class-level state.\n",
        "\n",
        "Example of a Class Method:"
      ],
      "metadata": {
        "id": "Ova94p6zlWDo"
      }
    },
    {
      "cell_type": "code",
      "source": [
        "class Bank:\n",
        "    total_accounts = 0  # class attribute to track total accounts\n",
        "\n",
        "    def __init__(self, owner, balance=0):\n",
        "        self.owner = owner  # instance attribute\n",
        "        self.balance = balance  # instance attribute\n",
        "        Bank.total_accounts += 1  # Increment the total number of accounts\n",
        "\n",
        "    @classmethod\n",
        "    def get_total_accounts(cls):\n",
        "        \"\"\"Class method to get the total number of bank accounts.\"\"\"\n",
        "        print(f\"Total bank accounts: {cls.total_accounts}\")\n",
        "\n",
        "# Creating instances of the Bank class\n",
        "account1 = Bank(\"Alice\", 500)\n",
        "account2 = Bank(\"Bob\", 1000)\n",
        "account3 = Bank(\"Charlie\", 1500)\n",
        "\n",
        "# Calling the class method on the class\n",
        "Bank.get_total_accounts()"
      ],
      "metadata": {
        "id": "E9SJsGCvlsMP"
      },
      "execution_count": null,
      "outputs": []
    },
    {
      "cell_type": "markdown",
      "source": [
        "-----\n",
        "###Q4.  How does Python implement method overloading? Give an example.\n",
        "Ans. In Python, method overloading (where you can define multiple methods with the same name but different parameter types or numbers) is not natively supported in the same way as in some other languages like Java or C++. In Python, the last defined method with a particular name will override any previous methods with the same name.\n",
        "\n",
        "However, Python provides ways to mimic method overloading using default arguments, variable-length argument lists (*args and **kwargs), or by explicitly checking the type or number of arguments within a method.\n",
        "\n",
        "Example 1: Method Overloading using Default Arguments\n",
        "\n",
        "One way to mimic overloading is by using default arguments in the method. This allows the method to accept a varying number of arguments.\n"
      ],
      "metadata": {
        "id": "Sap_H0Xwlw5K"
      }
    },
    {
      "cell_type": "code",
      "source": [
        "class Calculator:\n",
        "    def add(self, a, b=0, c=0):\n",
        "        return a + b + c\n",
        "\n",
        "calc = Calculator()\n",
        "\n",
        "# Calling with two arguments\n",
        "print(calc.add(5, 3))  # Output: 8\n",
        "\n",
        "# Calling with one argument\n",
        "print(calc.add(5))  # Output: 5\n",
        "\n",
        "# Calling with three arguments\n",
        "print(calc.add(5, 3, 2))  # Output: 10"
      ],
      "metadata": {
        "id": "dRW3Aej_rHvP"
      },
      "execution_count": null,
      "outputs": []
    },
    {
      "cell_type": "markdown",
      "source": [
        "Example 2: Method Overloading using *args (Variable-Length Arguments)\n",
        "\n",
        "Another approach is to use *args to accept an arbitrary number of positional arguments."
      ],
      "metadata": {
        "id": "Cdjoav2jrMCC"
      }
    },
    {
      "cell_type": "code",
      "source": [
        "class Printer:\n",
        "    def print_message(self, *args):\n",
        "        if len(args) == 1:\n",
        "            print(f\"Message: {args[0]}\")\n",
        "        elif len(args) == 2:\n",
        "            print(f\"Message: {args[0]} - {args[1]}\")\n",
        "        else:\n",
        "            print(\"Too many arguments!\")\n",
        "\n",
        "printer = Printer()\n",
        "\n",
        "# Calling with one argument\n",
        "printer.print_message(\"Hello!\")  # Output: Message: Hello!\n",
        "\n",
        "# Calling with two arguments\n",
        "printer.print_message(\"Hello\", \"World\")  # Output: Message: Hello - World\n",
        "\n",
        "# Calling with more than two arguments\n",
        "printer.print_message(\"Hello\", \"World\", \"Python\")  # Output: Too many arguments!"
      ],
      "metadata": {
        "id": "H2YI0eSdrRNX"
      },
      "execution_count": null,
      "outputs": []
    },
    {
      "cell_type": "markdown",
      "source": [
        "Example 3: Method Overloading using **kwargs (Keyword Arguments)\n",
        "\n",
        "You can also use **kwargs for handling varying keyword arguments. This allows you to pass named parameters dynamically."
      ],
      "metadata": {
        "id": "Il0QpDrlrjLC"
      }
    },
    {
      "cell_type": "code",
      "source": [
        "class Greeting:\n",
        "    def greet(self, **kwargs):\n",
        "        if 'name' in kwargs:\n",
        "            print(f\"Hello, {kwargs['name']}!\")\n",
        "        elif 'language' in kwargs:\n",
        "            print(f\"Greetings in {kwargs['language']}\")\n",
        "        else:\n",
        "            print(\"Hello!\")\n",
        "\n",
        "greeting = Greeting()\n",
        "\n",
        "# Calling with keyword argument 'name'\n",
        "greeting.greet(name=\"John\")  # Output: Hello, John!\n",
        "\n",
        "# Calling with keyword argument 'language'\n",
        "greeting.greet(language=\"French\")  # Output: Greetings in French\n",
        "\n",
        "# Calling without any keyword arguments\n",
        "greeting.greet()  # Output: Hello!"
      ],
      "metadata": {
        "id": "nPRsYN4urvW5"
      },
      "execution_count": null,
      "outputs": []
    },
    {
      "cell_type": "markdown",
      "source": [
        "-----\n",
        "###Q5. What are the three types of access modifiers in Python? How are they denoted?\n",
        "Ans. In Python, there are three primary types of access modifiers that control the visibility and accessibility of class members (attributes and methods):\n",
        "\n",
        "1. Public:\n",
        "\n",
        "Denoted by: No leading underscores.\n",
        "\n",
        "Description: Public members can be accessed from anywhere, both inside and outside the class. They are the default type for class attributes and methods.\n",
        "\n",
        "Example:"
      ],
      "metadata": {
        "id": "qQWjfLC7sGJs"
      }
    },
    {
      "cell_type": "code",
      "source": [
        "class MyClass:\n",
        "    def __init__(self):\n",
        "        self.public_attribute = 5  # Public attribute\n",
        "\n",
        "    def public_method(self):\n",
        "        print(\"This is a public method.\")\n",
        "\n",
        "obj = MyClass()\n",
        "print(obj.public_attribute)  # Accessible from outside\n",
        "obj.public_method()  # Accessible from outside"
      ],
      "metadata": {
        "id": "VR2Q0Xk_tFjZ"
      },
      "execution_count": null,
      "outputs": []
    },
    {
      "cell_type": "markdown",
      "source": [
        "2. Protected:\n",
        "\n",
        "Denoted by: A single leading underscore (_).\n",
        "\n",
        "Description: Protected members are intended to be accessed only within the class and its subclasses (i.e., they are considered \"protected\" from outside access). However, this is merely a convention and does not prevent access from outside the class. Python does not enforce true encapsulation like some other languages.\n",
        "\n",
        "Example:"
      ],
      "metadata": {
        "id": "LZNdRm18tKJf"
      }
    },
    {
      "cell_type": "code",
      "source": [
        "class MyClass:\n",
        "    def __init__(self):\n",
        "        self._protected_attribute = 10  # Protected attribute\n",
        "\n",
        "    def _protected_method(self):\n",
        "        print(\"This is a protected method.\")\n",
        "\n",
        "obj = MyClass()\n",
        "print(obj._protected_attribute)  # Technically accessible, but not recommended\n",
        "obj._protected_method()  # Technically accessible, but not recommended"
      ],
      "metadata": {
        "id": "6an9A9yTuWL8"
      },
      "execution_count": null,
      "outputs": []
    },
    {
      "cell_type": "markdown",
      "source": [
        "3. Private:\n",
        "\n",
        "Denoted by: A double leading underscore (__).\n",
        "\n",
        "Description: Private members are intended to be used only within the class itself. Python \"name-mangles\" these attributes and methods to prevent accidental access from outside the class. It is a stronger form of encapsulation, but again, it is not a strict enforcement. The name of the attribute is changed internally to prevent direct access.\n",
        "\n",
        "Example:"
      ],
      "metadata": {
        "id": "iK40z9rzuXIA"
      }
    },
    {
      "cell_type": "code",
      "source": [
        "class MyClass:\n",
        "    def __init__(self):\n",
        "        self.__private_attribute = 20  # Private attribute\n",
        "\n",
        "    def __private_method(self):\n",
        "        print(\"This is a private method.\")\n",
        "\n",
        "obj = MyClass()\n",
        "# print(obj.__private_attribute)  # Will raise an AttributeError\n",
        "# obj.__private_method()  # Will raise an AttributeError\n",
        "\n",
        "# Accessing via name mangling (not recommended)\n",
        "print(obj._MyClass__private_attribute)  # Works but not recommended"
      ],
      "metadata": {
        "id": "KxUjc8PAvAPq"
      },
      "execution_count": null,
      "outputs": []
    },
    {
      "cell_type": "markdown",
      "source": [
        "----\n",
        "\n",
        "###Q6. Describe the five types of inheritance in Python. Provide a simple example of multiple inheritance.\n",
        "Ans. In Python, inheritance refers to the mechanism by which a new class can inherit the properties and behaviors (methods) of an existing class.\n",
        "\n",
        "There are five main types of inheritance:\n",
        "\n",
        "1. Single Inheritance\n",
        "\n",
        "In single inheritance, a class inherits from just one parent class. This is the simplest form of inheritance.\n",
        "\n",
        "Example:"
      ],
      "metadata": {
        "id": "WS5PN2-wgfa5"
      }
    },
    {
      "cell_type": "code",
      "source": [
        "class Animal:\n",
        "    def speak(self):\n",
        "        print(\"Animal speaks\")\n",
        "\n",
        "class Dog(Animal):\n",
        "    def bark(self):\n",
        "        print(\"Dog barks\")\n",
        "\n",
        "# Usage\n",
        "dog = Dog()\n",
        "dog.speak()  # Inherited from Animal\n",
        "dog.bark()   # Defined in Dog"
      ],
      "metadata": {
        "id": "2P0gaMg4ie-z"
      },
      "execution_count": null,
      "outputs": []
    },
    {
      "cell_type": "markdown",
      "source": [
        "2. Multiple Inheritance:\n",
        "\n",
        "In multiple inheritance, a class can inherit from more than one parent class. This allows the derived class to have attributes and methods from multiple parent classes.\n",
        "\n",
        "Example:"
      ],
      "metadata": {
        "id": "uxKwOA08imjn"
      }
    },
    {
      "cell_type": "code",
      "source": [
        "class Animal:\n",
        "    def speak(self):\n",
        "        print(\"Animal speaks\")\n",
        "\n",
        "class Mammal:\n",
        "    def has_hair(self):\n",
        "        print(\"Mammal has hair\")\n",
        "\n",
        "class Dog(Animal, Mammal):\n",
        "    def bark(self):\n",
        "        print(\"Dog barks\")\n",
        "\n",
        "# Usage\n",
        "dog = Dog()\n",
        "dog.speak()     # Inherited from Animal\n",
        "dog.has_hair()  # Inherited from Mammal\n",
        "dog.bark()      # Defined in Dog"
      ],
      "metadata": {
        "id": "oM446Todi0am"
      },
      "execution_count": null,
      "outputs": []
    },
    {
      "cell_type": "markdown",
      "source": [
        "3. Multilevel Inheritance\n",
        "\n",
        "In multilevel inheritance, a class inherits from another class, which in turn inherits from another class, creating a chain of inheritance.\n",
        "\n",
        "Example:"
      ],
      "metadata": {
        "id": "B62Sz4g8jQYH"
      }
    },
    {
      "cell_type": "code",
      "source": [
        "class Animal:\n",
        "    def speak(self):\n",
        "        print(\"Animal speaks\")\n",
        "\n",
        "class Mammal(Animal):\n",
        "    def has_hair(self):\n",
        "        print(\"Mammal has hair\")\n",
        "\n",
        "class Dog(Mammal):\n",
        "    def bark(self):\n",
        "        print(\"Dog barks\")\n",
        "\n",
        "# Usage\n",
        "dog = Dog()\n",
        "dog.speak()     # Inherited from Animal\n",
        "dog.has_hair()  # Inherited from Mammal\n",
        "dog.bark()      # Defined in Dog"
      ],
      "metadata": {
        "id": "z1x-yJzOjVnd"
      },
      "execution_count": null,
      "outputs": []
    },
    {
      "cell_type": "markdown",
      "source": [
        "4. Hierarchical Inheritance\n",
        "\n",
        "In hierarchical inheritance, multiple classes inherit from a single parent class. This means that different classes share the same parent.\n",
        "\n",
        "Example:"
      ],
      "metadata": {
        "id": "V1QDi-TQjaxO"
      }
    },
    {
      "cell_type": "code",
      "source": [
        "class Animal:\n",
        "    def speak(self):\n",
        "        print(\"Animal speaks\")\n",
        "\n",
        "class Dog(Animal):\n",
        "    def bark(self):\n",
        "        print(\"Dog barks\")\n",
        "\n",
        "class Cat(Animal):\n",
        "    def meow(self):\n",
        "        print(\"Cat meows\")\n",
        "\n",
        "# Usage\n",
        "dog = Dog()\n",
        "dog.speak()  # Inherited from Animal\n",
        "dog.bark()   # Defined in Dog\n",
        "\n",
        "cat = Cat()\n",
        "cat.speak()  # Inherited from Animal\n",
        "cat.meow()   # Defined in Cat"
      ],
      "metadata": {
        "id": "dxgW_aLhjbB_"
      },
      "execution_count": null,
      "outputs": []
    },
    {
      "cell_type": "markdown",
      "source": [
        "5. Hybrid Inheritance:\n",
        "\n",
        "Hybrid inheritance occurs when a combination of two or more types of inheritance are used. For example, a class may inherit from multiple classes (multiple inheritance) while also having a chain (multilevel inheritance) structure.\n",
        "\n",
        "Example:"
      ],
      "metadata": {
        "id": "H7WpaKmRkwPI"
      }
    },
    {
      "cell_type": "code",
      "source": [
        "class Animal:\n",
        "    def speak(self):\n",
        "        print(\"Animal speaks\")\n",
        "\n",
        "class Mammal(Animal):\n",
        "    def has_hair(self):\n",
        "        print(\"Mammal has hair\")\n",
        "\n",
        "class Flyer:\n",
        "    def can_fly(self):\n",
        "        print(\"Can fly\")\n",
        "\n",
        "class Bat(Mammal, Flyer):\n",
        "    def echolocate(self):\n",
        "        print(\"Bat echolocates\")\n",
        "\n",
        "# Usage\n",
        "bat = Bat()\n",
        "bat.speak()       # Inherited from Animal\n",
        "bat.has_hair()    # Inherited from Mammal\n",
        "bat.can_fly()     # Inherited from Flyer\n",
        "bat.echolocate()  # Defined in Bat"
      ],
      "metadata": {
        "id": "1euM5r5Tk0ga"
      },
      "execution_count": null,
      "outputs": []
    },
    {
      "cell_type": "markdown",
      "source": [
        "----\n",
        "###Q7. What is the Method Resolution Order (MRO) in Python? How can you retrieve it programmatically?\n",
        "Ans. The Method Resolution Order (MRO) is the order in which Python looks for a method or attribute in a class hierarchy. This is particularly important in the context of inheritance, where a class may inherit from one or more classes (in single or multiple inheritance). When a method is called on an object, Python needs to determine the sequence of classes it will search to find that method or attribute.\n",
        "\n",
        "In Python, the MRO follows the C3 linearization algorithm, which ensures a consistent and predictable order in method resolution. This is important in multiple inheritance scenarios to avoid ambiguity and to define a clear order in which base classes are considered.\n",
        "\n",
        "* How MRO works:\n",
        "\n",
        "In single inheritance, MRO is straightforward: Python will search the class itself first, then its base class, and so on up the class hierarchy.\n",
        "In multiple inheritance, Python needs to resolve the method calls by a specific order, which is determined by the C3 linearization algorithm.\n",
        "\n",
        "* C3 Linearization:\n",
        "\n",
        "C3 linearization, also known as the C3 superclass linearization, is an algorithm that provides a consistent method for determining the order in which classes are searched. It considers:\n",
        "\n",
        "The class itself.\n",
        "Its base classes, with some constraints to avoid conflicts.\n",
        "The method resolution order ensures that classes are checked in a way that maintains both depth and breadth in the class hierarchy.\n",
        "\n",
        "* Retrieving MRO Programmatically:\n",
        "\n",
        "We can retrieve the MRO of a class using the built-in method mro(), which is available for all Python classes. The MRO is returned as a list of classes, ordered from the current class to the topmost base class (object)."
      ],
      "metadata": {
        "id": "m1FYauuFlOGD"
      }
    },
    {
      "cell_type": "code",
      "source": [
        "# Example of MRO retrieval\n",
        "class A:\n",
        "    pass\n",
        "\n",
        "class B(A):\n",
        "    pass\n",
        "\n",
        "class C(A):\n",
        "    pass\n",
        "\n",
        "class D(B, C):\n",
        "    pass\n",
        "\n",
        "# Retrieve the MRO of class D\n",
        "print(D.mro())"
      ],
      "metadata": {
        "id": "OLq65xkpmJpF"
      },
      "execution_count": null,
      "outputs": []
    },
    {
      "cell_type": "markdown",
      "source": [
        "----\n",
        "###Q8. Create an abstract base class `Shape` with an abstract method `area()`. Then create two subclasses\n",
        "###`Circle` and `Rectangle` that implement the `area()` method.\n",
        "\n",
        "Ans."
      ],
      "metadata": {
        "id": "veXe9rIYmVXh"
      }
    },
    {
      "cell_type": "code",
      "source": [
        "from abc import ABC, abstractmethod\n",
        "import math\n",
        "\n",
        "# Abstract base class\n",
        "class Shape(ABC):\n",
        "\n",
        "    @abstractmethod\n",
        "    def area(self):\n",
        "        pass\n",
        "\n",
        "# Subclass for Circle\n",
        "class Circle(Shape):\n",
        "    def __init__(self, radius):\n",
        "        self.radius = radius\n",
        "\n",
        "    def area(self):\n",
        "        return math.pi * self.radius ** 2\n",
        "\n",
        "# Subclass for Rectangle\n",
        "class Rectangle(Shape):\n",
        "    def __init__(self, width, height):\n",
        "        self.width = width\n",
        "        self.height = height\n",
        "\n",
        "    def area(self):\n",
        "        return self.width * self.height\n",
        "\n",
        "# Example usage:\n",
        "circle = Circle(5)\n",
        "print(f\"Circle area: {circle.area()}\")  # Circle area: 78.53981633974483\n",
        "\n",
        "rectangle = Rectangle(4, 6)\n",
        "print(f\"Rectangle area: {rectangle.area()}\")  # Rectangle area: 24"
      ],
      "metadata": {
        "id": "utBMvmDnnQhx"
      },
      "execution_count": null,
      "outputs": []
    },
    {
      "cell_type": "markdown",
      "source": [
        "Explanation:\n",
        "\n",
        "Shape (Abstract Base Class):\n",
        "\n",
        "The Shape class inherits from ABC (Abstract Base Class) and defines an abstract method area() that needs to be implemented by subclasses.\n",
        "\n",
        "Circle (Subclass):\n",
        "\n",
        "The Circle class inherits from Shape and implements the area() method. It calculates the area of a circle using the formula\n",
        "𝜋\n",
        "×\n",
        "𝑟\n",
        "2\n",
        "π×r\n",
        "2\n",
        " .\n",
        "\n",
        "Rectangle (Subclass):\n",
        "\n",
        "The Rectangle class inherits from Shape and implements the area() method, calculating the area using the formula\n",
        "width\n",
        "×\n",
        "height\n",
        "width×height.\n",
        "This structure ensures that any subclass of Shape must define its own area() method, adhering to a consistent interface for calculating areas."
      ],
      "metadata": {
        "id": "_gX9Ff7UnVUS"
      }
    },
    {
      "cell_type": "markdown",
      "source": [
        "------\n",
        "###Q9. Demonstrate polymorphism by creating a function that can work with different shape objects to calculate and print their areas.\n",
        "Ans. Polymorphism is a core concept in object-oriented programming (OOP), where different objects can be treated as instances of the same class through a shared interface, even though they might behave differently. In Python, polymorphism can be achieved via method overriding.\n",
        "\n",
        "Here, I'll demonstrate polymorphism by creating a function that works with different shapes (such as a circle, rectangle, and triangle) to calculate and print their areas. Each shape will have a method to compute its area, and the same function will call the appropriate method based on the object type.\n",
        "\n",
        "Example code:"
      ],
      "metadata": {
        "id": "P5m5ptw2qG2S"
      }
    },
    {
      "cell_type": "code",
      "source": [
        "import math\n",
        "\n",
        "# Base class Shape\n",
        "class Shape:\n",
        "    def area(self):\n",
        "        pass  # This method will be overridden in subclasses\n",
        "\n",
        "# Circle class that inherits from Shape\n",
        "class Circle(Shape):\n",
        "    def __init__(self, radius):\n",
        "        self.radius = radius\n",
        "\n",
        "    def area(self):\n",
        "        return math.pi * self.radius ** 2  # Area of a circle (πr^2)\n",
        "\n",
        "# Rectangle class that inherits from Shape\n",
        "class Rectangle(Shape):\n",
        "    def __init__(self, width, height):\n",
        "        self.width = width\n",
        "        self.height = height\n",
        "\n",
        "    def area(self):\n",
        "        return self.width * self.height  # Area of a rectangle (width * height)\n",
        "\n",
        "# Triangle class that inherits from Shape\n",
        "class Triangle(Shape):\n",
        "    def __init__(self, base, height):\n",
        "        self.base = base\n",
        "        self.height = height\n",
        "\n",
        "    def area(self):\n",
        "        return 0.5 * self.base * self.height  # Area of a triangle (0.5 * base * height)\n",
        "\n",
        "# Function to calculate and print area, demonstrating polymorphism\n",
        "def print_area(shape):\n",
        "    print(f\"The area of the shape is: {shape.area()}\")\n",
        "\n",
        "# Creating instances of different shapes\n",
        "circle = Circle(5)\n",
        "rectangle = Rectangle(4, 6)\n",
        "triangle = Triangle(3, 7)\n",
        "\n",
        "# Demonstrating polymorphism by calling print_area with different shapes\n",
        "print_area(circle)      # Should calculate the area of the circle\n",
        "print_area(rectangle)   # Should calculate the area of the rectangle\n",
        "print_area(triangle)    # Should calculate the area of the triangle"
      ],
      "metadata": {
        "id": "cNhh-cxsrpLj"
      },
      "execution_count": null,
      "outputs": []
    },
    {
      "cell_type": "markdown",
      "source": [
        "Explanation:\n",
        "\n",
        "1. Shape class: This is the base class with an area() method that is overridden by the derived classes.\n",
        "2. Circle, Rectangle, and Triangle classes: These are subclasses of Shape, and each class has its own implementation of the area() method to compute the area of the respective shape.\n",
        "3. print_area() function: This function accepts a Shape object and calls the area() method of the passed object. This function works with any shape object due to polymorphism.\n",
        "4. Demonstrating polymorphism: When we call print_area() with different shape objects (circle, rectangle, triangle), it correctly invokes the appropriate area() method for each shape."
      ],
      "metadata": {
        "id": "q0_7y63NrsgM"
      }
    },
    {
      "cell_type": "markdown",
      "source": [
        "---\n",
        "###Q10. Implement encapsulation in a `BankAccount` class with private attributes for `balance` and `account_number`. Include methods for deposit, withdrawal, and balance inquiry.\n",
        "Ans. To implement encapsulation in a BankAccount class, we can make use of private attributes for balance and account_number.\n",
        "\n",
        "In Python, private attributes are indicated by prefixing the attribute names with double underscores (__). We will also provide methods to perform operations such as deposit, withdrawal, and balance inquiry.\n",
        "\n",
        "Here's how we can implement the BankAccount class:"
      ],
      "metadata": {
        "id": "CfZ_ayZ8sacW"
      }
    },
    {
      "cell_type": "code",
      "source": [
        "class BankAccount:\n",
        "    def __init__(self, account_number, initial_balance=0):\n",
        "        # Private attributes for balance and account number\n",
        "        self.__account_number = account_number\n",
        "        self.__balance = initial_balance\n",
        "\n",
        "    # Method to deposit money into the account\n",
        "    def deposit(self, amount):\n",
        "        if amount > 0:\n",
        "            self.__balance += amount\n",
        "            print(f\"Deposited: ${amount}. New balance: ${self.__balance}\")\n",
        "        else:\n",
        "            print(\"Deposit amount must be greater than zero.\")\n",
        "\n",
        "    # Method to withdraw money from the account\n",
        "    def withdraw(self, amount):\n",
        "        if amount > 0:\n",
        "            if amount <= self.__balance:\n",
        "                self.__balance -= amount\n",
        "                print(f\"Withdrew: ${amount}. New balance: ${self.__balance}\")\n",
        "            else:\n",
        "                print(\"Insufficient funds for withdrawal.\")\n",
        "        else:\n",
        "            print(\"Withdrawal amount must be greater than zero.\")\n",
        "\n",
        "    # Method to inquire the balance\n",
        "    def get_balance(self):\n",
        "        return self.__balance\n",
        "\n",
        "    # Method to get account number (optional)\n",
        "    def get_account_number(self):\n",
        "        return self.__account_number\n",
        "\n",
        "\n",
        "# Example usage\n",
        "account = BankAccount(account_number=\"123456789\", initial_balance=1000)\n",
        "\n",
        "# Deposit money\n",
        "account.deposit(500)\n",
        "\n",
        "# Withdraw money\n",
        "account.withdraw(200)\n",
        "\n",
        "# Check balance\n",
        "print(f\"Current balance: ${account.get_balance()}\")\n",
        "\n",
        "# Try to withdraw more than available balance\n",
        "account.withdraw(2000)"
      ],
      "metadata": {
        "id": "wn5-KOlEtSnK"
      },
      "execution_count": null,
      "outputs": []
    },
    {
      "cell_type": "markdown",
      "source": [
        "Key Features:\n",
        "\n",
        "1. Private attributes: The __balance and __account_number are private attributes, meaning they cannot be accessed directly from outside the class.\n",
        "2. Methods for operations:\n",
        "* deposit(amount): Adds the specified amount to the balance if it's a positive value.\n",
        "* withdraw(amount): Deducts the specified amount from the balance, checking that there are sufficient funds.\n",
        "* get_balance(): Returns the current balance of the account.\n",
        "* get_account_number(): Returns the account number (optional if needed outside the class).\n",
        "* Encapsulation: The internal state (__balance and __account_number) is hidden from direct access, providing a layer of protection for the data."
      ],
      "metadata": {
        "id": "8iSzZMPPteQ6"
      }
    },
    {
      "cell_type": "markdown",
      "source": [
        "--------\n",
        "###Q11. Write a class that overrides the `__str__` and `__add__` magic methods. What will these methods allow you to do?\n",
        "Ans."
      ],
      "metadata": {
        "id": "0RU2zTsHvaA3"
      }
    },
    {
      "cell_type": "code",
      "source": [
        "class CustomClass:\n",
        "    def __init__(self, value):\n",
        "        self.value = value\n",
        "\n",
        "    def __str__(self):\n",
        "        # This method is called when you call str() on an instance of the class or print it.\n",
        "        return f\"CustomClass with value: {self.value}\"\n",
        "\n",
        "    def __add__(self, other):\n",
        "        # This method allows for adding two instances of CustomClass\n",
        "        if isinstance(other, CustomClass):\n",
        "            return CustomClass(self.value + other.value)\n",
        "        else:\n",
        "            raise TypeError(\"Both operands must be instances of CustomClass\")\n",
        "\n",
        "# Example usage:\n",
        "obj1 = CustomClass(10)\n",
        "obj2 = CustomClass(20)\n",
        "\n",
        "# The __str__ method will be called here:\n",
        "print(obj1)  # Output: CustomClass with value: 10\n",
        "\n",
        "# The __add__ method will be called here:\n",
        "obj3 = obj1 + obj2\n",
        "print(obj3)  # Output: CustomClass with value: 30"
      ],
      "metadata": {
        "id": "-p8uVA3TwmH5"
      },
      "execution_count": null,
      "outputs": []
    },
    {
      "cell_type": "markdown",
      "source": [
        "Explanation of the Methods:\n",
        "\n",
        "1. __str__ method:\n",
        "\n",
        "The __str__ method is used to define how an object is represented as a string when you call str() on the object or when you print the object using print().\n",
        "In this case, the __str__ method returns a string that includes the value of the object, e.g., \"CustomClass with value: 10\".\n",
        "Usage Example: print(obj1) will print: CustomClass with value: 10.\n",
        "\n",
        "2. __add__ method:\n",
        "\n",
        "The __add__ method is used to define how two objects of the class are added together using the + operator.\n",
        "In this case, we check if the other operand is also an instance of CustomClass, and if so, we add their value attributes and return a new instance of CustomClass with the sum.\n",
        "If the other operand is not an instance of CustomClass, a TypeError is raised.\n",
        "\n",
        "Usage Example: obj1 + obj2 calls __add__, which adds the values of obj1 and obj2 and returns a new CustomClass object with the result.\n",
        "\n",
        "What These Methods Allow You to Do:\n",
        "\n",
        "1. __str__: This method allows you to control how an instance of your class is converted into a string. This is useful for debugging, logging, or providing a user-friendly string representation of your objects when printed.\n",
        "\n",
        "2. __add__: This method allows you to define custom behavior for the + operator. In this case, adding two objects of the class together results in a new object where the values of the two original objects are summed. This is helpful when you want objects of your class to support arithmetic or logical operations."
      ],
      "metadata": {
        "id": "nLXxkJT4wn3p"
      }
    },
    {
      "cell_type": "markdown",
      "source": [
        "-------------\n",
        "###Q12. Create a decorator that measures and prints the execution time of a function.\n",
        "Ans."
      ],
      "metadata": {
        "id": "1qaMRDl6yfUP"
      }
    },
    {
      "cell_type": "code",
      "source": [
        "import time\n",
        "\n",
        "def measure_execution_time(func):\n",
        "    def wrapper(*args, **kwargs):\n",
        "        start_time = time.time()  # Record start time\n",
        "        result = func(*args, **kwargs)  # Call the original function\n",
        "        end_time = time.time()  # Record end time\n",
        "        execution_time = end_time - start_time  # Calculate the execution time\n",
        "        print(f\"Execution time of {func.__name__}: {execution_time:.4f} seconds\")\n",
        "        return result\n",
        "    return wrapper\n",
        "\n",
        "# Example usage\n",
        "@measure_execution_time\n",
        "def example_function():\n",
        "    time.sleep(2)  # Simulate a time-consuming task\n",
        "\n",
        "example_function()"
      ],
      "metadata": {
        "id": "h4-Rn3uNzYex"
      },
      "execution_count": null,
      "outputs": []
    },
    {
      "cell_type": "markdown",
      "source": [
        "Explanation:\n",
        "\n",
        "1. Decorator Definition: measure_execution_time is the decorator function. It takes another function func as input and returns a wrapper function.\n",
        "2. Wrapper Function: The wrapper function is what gets executed instead of the original function. It measures the time before and after calling the original function (func), and prints the difference.\n",
        "3. Usage: You decorate a function (e.g., example_function) with @measure_execution_time to automatically measure its execution time when it is called.\n",
        "\n",
        "When example_function() is called, it will print the time it took to execute."
      ],
      "metadata": {
        "id": "zo5RuwfPzZgu"
      }
    },
    {
      "cell_type": "markdown",
      "source": [
        "----------\n",
        "###Q13. Explain the concept of the Diamond Problem in multiple inheritance. How does Python resolve it?\n",
        "Ans. The Diamond Problem is a complication that can arise in object-oriented programming languages that support multiple inheritance. It occurs when a class inherits from two classes that both inherit from a common base class, creating a diamond-shaped inheritance structure.\n",
        "\n",
        "####The Diamond Problem Explained:\n",
        "\n",
        "Imagine the following class hierarchy:\n",
        "\n",
        "      A\n",
        "     / \\\n",
        "    B   C\n",
        "     \\ /\n",
        "      D\n",
        "In this structure:\n",
        "\n",
        "Class A is the base class.\n",
        "\n",
        "Classes B and C inherit from A.\n",
        "\n",
        "Class D inherits from both B and C.\n",
        "\n",
        "The problem arises when class D inherits from both B and C, and both B and C have inherited from class A. If class A defines a method, and both B and C override that method, the question becomes: Which version of the method should class D inherit?\n",
        "\n",
        "This leads to ambiguity and confusion regarding which method (from B or C) class D should call when it accesses the method inherited from A.\n",
        "\n",
        "Python's Solution: The Method Resolution Order (MRO)\n",
        "Python resolves the Diamond Problem using a technique called the Method Resolution Order (MRO), which defines the order in which classes are looked up when searching for a method or attribute.\n",
        "\n",
        "Python uses the C3 linearization algorithm to compute the MRO for a class. This linearization ensures that each class appears only once in the resolution order, and that the base classes are considered in a predictable order.\n",
        "\n",
        "In simple terms, Python defines a consistent order in which it searches for methods in the inheritance hierarchy, avoiding ambiguity in case of multiple inheritance."
      ],
      "metadata": {
        "id": "YAITc3Y3zpfP"
      }
    },
    {
      "cell_type": "code",
      "source": [
        "class A:\n",
        "    def method(self):\n",
        "        print(\"Method in A\")\n",
        "\n",
        "class B(A):\n",
        "    def method(self):\n",
        "        print(\"Method in B\")\n",
        "\n",
        "class C(A):\n",
        "    def method(self):\n",
        "        print(\"Method in C\")\n",
        "\n",
        "class D(B, C):\n",
        "    pass\n",
        "\n",
        "# Create an instance of D\n",
        "d = D()\n",
        "d.method()  # Calls the method from class B"
      ],
      "metadata": {
        "id": "T3DPfcyc3O4k"
      },
      "execution_count": null,
      "outputs": []
    },
    {
      "cell_type": "markdown",
      "source": [
        "How Python Resolves It:\n",
        "\n",
        "Python will follow the MRO, which is determined as follows:\n",
        "\n",
        "Python first checks D (the class from which we are calling the method).\n",
        "\n",
        "Then, it checks B (the first class listed in the inheritance of D).\n",
        "\n",
        "If the method is not found in B, it will check C (the second class listed in the inheritance of D).\n",
        "\n",
        "Finally, if the method is not found in C, it will check A.\n",
        "For the example above, since B overrides the method of A, the method from B will be called. If class B had not defined method, Python would have moved to class C, and if not found there, it would have called A.\n",
        "\n",
        "Why Python’s Approach Works:\n",
        "\n",
        "The C3 linearization that Python uses ensures that:\n",
        "\n",
        "No class is visited more than once, which avoids infinite loops.\n",
        "\n",
        "Parent classes are visited in a consistent and predictable order, which eliminates ambiguity.\n",
        "\n",
        "Thus, Python avoids the Diamond Problem by using the MRO to clearly define the order in which methods are resolved, ensuring that the program behaves consistently even in the case of multiple inheritance.\n"
      ],
      "metadata": {
        "id": "VlgkfKkF3P_l"
      }
    },
    {
      "cell_type": "markdown",
      "source": [
        "------\n",
        "###Q14. Write a class method that keeps track of the number of instances created from a class.\n",
        "Ans."
      ],
      "metadata": {
        "id": "FExD_H2v3l2M"
      }
    },
    {
      "cell_type": "code",
      "source": [
        "class MyClass:\n",
        "    # Class variable to keep track of the instance count\n",
        "    instance_count = 0\n",
        "\n",
        "    def __init__(self):\n",
        "        # Increment the instance count each time a new object is created\n",
        "        MyClass.instance_count += 1\n",
        "\n",
        "    @classmethod\n",
        "    def get_instance_count(cls):\n",
        "        # Class method to get the current count of instances\n",
        "        return cls.instance_count\n",
        "\n",
        "# Example usage:\n",
        "obj1 = MyClass()\n",
        "obj2 = MyClass()\n",
        "obj3 = MyClass()\n",
        "\n",
        "# Access the instance count using the class method\n",
        "print(MyClass.get_instance_count())  # Output: 3"
      ],
      "metadata": {
        "id": "6LosIY7P37MS"
      },
      "execution_count": null,
      "outputs": []
    },
    {
      "cell_type": "markdown",
      "source": [
        "Explanation:\n",
        "\n",
        "1. instance_count: This is a class variable that is shared by all instances of MyClass. It keeps track of the number of instances created.\n",
        "2. __init__ method: Every time an object is created, the instance_count is incremented.\n",
        "3. get_instance_count class method: This method is a class method (indicated by @classmethod), which means it can access and return the value of the class variable instance_count.\n",
        "\n",
        "Each time a new instance of MyClass is created, the instance_count increases, and you can retrieve the current count by calling get_instance_count()."
      ],
      "metadata": {
        "id": "S026Rtfu3_QE"
      }
    },
    {
      "cell_type": "markdown",
      "source": [
        "------\n",
        "###Q15. Implement a static method in a class that checks if a given year is a leap year.\n",
        "Ans."
      ],
      "metadata": {
        "id": "jOTd6tOy4GLf"
      }
    },
    {
      "cell_type": "code",
      "source": [
        "class YearUtils:\n",
        "    @staticmethod\n",
        "    def is_leap_year(year):\n",
        "        # If the year is divisible by 4\n",
        "        if year % 4 == 0:\n",
        "            # If the year is divisible by 100, it must also be divisible by 400\n",
        "            if year % 100 == 0:\n",
        "                if year % 400 == 0:\n",
        "                    return True\n",
        "                else:\n",
        "                    return False\n",
        "            else:\n",
        "                return True\n",
        "        else:\n",
        "            return False\n",
        "\n",
        "print(YearUtils.is_leap_year(2020))  # True\n",
        "print(YearUtils.is_leap_year(1900))  # False\n",
        "print(YearUtils.is_leap_year(2000))  # True\n",
        "print(YearUtils.is_leap_year(2024))  # True"
      ],
      "metadata": {
        "id": "GgcDd-0b4cXh"
      },
      "execution_count": null,
      "outputs": []
    },
    {
      "cell_type": "markdown",
      "source": [
        "Explanation:\n",
        "\n",
        "The method is_leap_year is decorated with @staticmethod, making it a static method, meaning it can be called on the class without creating an instance.\n",
        "\n",
        "* It checks:\n",
        "1. If the year is divisible by 4 (first condition).\n",
        "2. If the year is divisible by 100, it also checks if it's divisible by 400 to account for the exception.\n",
        "-------\n",
        "-------"
      ],
      "metadata": {
        "id": "Q5k5ZJSF4xWb"
      }
    }
  ]
}