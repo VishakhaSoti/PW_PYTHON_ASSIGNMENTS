{
  "nbformat": 4,
  "nbformat_minor": 0,
  "metadata": {
    "colab": {
      "provenance": [],
      "toc_visible": true
    },
    "kernelspec": {
      "name": "python3",
      "display_name": "Python 3"
    },
    "language_info": {
      "name": "python"
    }
  },
  "cells": [
    {
      "cell_type": "markdown",
      "source": [
        "###Q1. What is NumPy, and why is it widely used in Python?\n",
        "Ans. NumPy (short for Numerical Python) is a powerful library in Python designed to support efficient operations on large, multi-dimensional arrays and matrices, along with a collection of mathematical functions to operate on these arrays.\n",
        "\n",
        "- Key Features of NumPy:\n",
        "1. N-dimensional Array (ndarray):\n",
        "\n",
        "At the core of NumPy is the ndarray, which is a grid of values (of any data type) indexed by a tuple of non-negative integers. Arrays in NumPy can have any number of dimensions, from a simple 1D array (like a list) to complex multi-dimensional arrays (like matrices or tensors).\n",
        "2. Efficient Computation:\n",
        "\n",
        "NumPy is optimized for numerical computations, offering fast performance for array operations compared to standard Python lists. This is due to the underlying implementation in C, which allows NumPy to handle large amounts of data with high performance.\n",
        "3. Mathematical Functions:\n",
        "\n",
        "It provides a wide range of mathematical functions such as linear algebra, random number generation, Fourier transforms, and more. NumPy allows easy vectorization (applying operations to whole arrays without explicit loops), which leads to faster and cleaner code.\n",
        "4. Broadcasting:\n",
        "\n",
        "NumPy supports broadcasting, a powerful feature that allows operations between arrays of different shapes. This eliminates the need for manual iteration over elements in many cases.\n",
        "5. Integration with Other Libraries:\n",
        "\n",
        "Many other Python libraries (like SciPy, pandas, scikit-learn, TensorFlow, etc.) rely on NumPy for array manipulation. It provides the fundamental data structure for numerical data used in data analysis, machine learning, scientific computing, and more.\n",
        "\n",
        "- Why is NumPy widely used?\n",
        "1. Performance:\n",
        "\n",
        "NumPy operations are highly optimized, often running orders of magnitude faster than the equivalent operations using Python lists. This performance boost comes from NumPy being implemented in C and using highly optimized libraries like BLAS and LAPACK for numerical computations.\n",
        "2. Ease of Use:\n",
        "\n",
        "NumPy simplifies the process of working with large datasets and complex operations. It allows you to perform mathematical operations directly on arrays without needing to write complex loops or code. This makes the code more readable, concise, and easier to maintain.\n",
        "3. Memory Efficiency:\n",
        "\n",
        "NumPy arrays are more memory-efficient than Python lists because they store data in contiguous blocks of memory, allowing for faster access and manipulation of large datasets.\n",
        "4. Standard in Scientific and Data-Driven Fields:\n",
        "\n",
        "NumPy is the de facto standard for numerical computing in Python. It is used extensively in fields like data science, machine learning, artificial intelligence, physics, economics, and engineering due to its speed and ease of integration with other tools.\n",
        "5. Large Ecosystem:\n",
        "\n",
        "NumPy is the foundation for many other scientific and numerical libraries (like SciPy, pandas, and Matplotlib), and its interoperability with these tools makes it indispensable for data analysis and scientific computing."
      ],
      "metadata": {
        "id": "3rRXrmf0weIf"
      }
    },
    {
      "cell_type": "code",
      "source": [
        "import numpy as np\n",
        "\n",
        "# Creating a 2D NumPy array (matrix)\n",
        "a = np.array([[1, 2, 3], [4, 5, 6]])\n",
        "\n",
        "# Performing element-wise operations\n",
        "b = a * 2\n",
        "\n",
        "# Transposing the matrix\n",
        "c = a.T\n",
        "\n",
        "print(\"Array a:\\n\", a)\n",
        "print(\"Array b (a * 2):\\n\", b)\n",
        "print(\"Transposed array c:\\n\", c)"
      ],
      "metadata": {
        "id": "fIKLuNnZxfg8"
      },
      "execution_count": null,
      "outputs": []
    },
    {
      "cell_type": "markdown",
      "source": [
        "-------\n",
        "###Q2. How does broadcasting work in NumPy?\n",
        "Ans. Broadcasting in NumPy refers to the ability of NumPy to perform element-wise operations on arrays of different shapes. When performing operations (like addition, subtraction, multiplication, etc.) between arrays, NumPy tries to \"broadcast\" the smaller array across the larger array so that they have compatible shapes for element-wise operations.\n",
        "\n",
        "- How Broadcasting Works:\n",
        "\n",
        "1. Rule 1: If the arrays have a different number of dimensions, pad the smaller array's shape with ones on the left side until both shapes have the same length.\n",
        "\n",
        "For example, if you have an array of shape (3, 5) and another of shape (5,), you would treat the second array as having shape (1, 5) by adding a leading dimension of size 1.\n",
        "2. Rule 2: The two arrays are compatible when, for each dimension, the size of the dimension is either the same in both arrays, or one of the arrays has size 1 in that dimension.\n",
        "\n",
        "If one of the arrays has size 1 in a dimension, it is \"stretched\" to match the size of the other array in that dimension.\n",
        "For example, an array of shape (1, 5) can be broadcasted to (3, 5) by repeating it along the first axis.\n",
        "3. Rule 3: After applying the rules above, if the arrays do not have compatible shapes, a ValueError is raised.\n",
        "\n",
        "Example 1: Broadcasting with a scalar"
      ],
      "metadata": {
        "id": "8dz5rdYJxh46"
      }
    },
    {
      "cell_type": "code",
      "source": [
        "import numpy as np\n",
        "\n",
        "arr = np.array([[1, 2], [3, 4]])\n",
        "scalar = 10\n",
        "\n",
        "result = arr + scalar\n",
        "print(result)"
      ],
      "metadata": {
        "id": "qmzT_SMs2UMf"
      },
      "execution_count": null,
      "outputs": []
    },
    {
      "cell_type": "markdown",
      "source": [
        "Example 2: Broadcasting with arrays of different shapes"
      ],
      "metadata": {
        "id": "DaZAiTQI2VZU"
      }
    },
    {
      "cell_type": "code",
      "source": [
        "import numpy as np\n",
        "\n",
        "arr1 = np.array([[1, 2, 3], [4, 5, 6]])\n",
        "arr2 = np.array([10, 20, 30])\n",
        "\n",
        "result = arr1 + arr2\n",
        "print(result)"
      ],
      "metadata": {
        "id": "tac6ZZaX2ZiW"
      },
      "execution_count": null,
      "outputs": []
    },
    {
      "cell_type": "markdown",
      "source": [
        "Example 3: Broadcasting with arrays of different dimensions"
      ],
      "metadata": {
        "id": "oJh_bgN73s9i"
      }
    },
    {
      "cell_type": "code",
      "source": [
        "import numpy as np\n",
        "\n",
        "arr1 = np.array([[1, 2, 3], [4, 5, 6]])\n",
        "arr2 = np.array([10, 20, 30])\n",
        "\n",
        "result = arr1 + arr2  # Broadcasting arr2 to shape (2, 3)\n",
        "print(result)"
      ],
      "metadata": {
        "id": "SSFLQ_i63tlG"
      },
      "execution_count": null,
      "outputs": []
    },
    {
      "cell_type": "markdown",
      "source": [
        "Example 4: Broadcasting fails when the shapes are incompatible"
      ],
      "metadata": {
        "id": "YL35iIrS3yTf"
      }
    },
    {
      "cell_type": "code",
      "source": [
        "import numpy as np\n",
        "\n",
        "arr1 = np.array([[1, 2], [3, 4]])\n",
        "arr2 = np.array([1, 2, 3])\n",
        "\n",
        "# This will raise a ValueError because the shapes are not compatible for broadcasting.\n",
        "result = arr1 + arr2"
      ],
      "metadata": {
        "id": "R3XYtUPz32Ds"
      },
      "execution_count": null,
      "outputs": []
    },
    {
      "cell_type": "markdown",
      "source": [
        "----\n",
        "###Q3. What is a Pandas DataFrame?\n",
        "Ans. A Pandas DataFrame is a two-dimensional, size-mutable, and potentially heterogeneous tabular data structure in Python. It is part of the Pandas library, which is widely used for data manipulation and analysis. The DataFrame allows you to store and manage data in a structured way, where you can label both rows and columns, making it very convenient for various data analysis tasks.\n",
        "\n",
        "- Key Features of a Pandas DataFrame:\n",
        "1. Rows and Columns: It consists of rows and columns, much like a table in a database or a spreadsheet. Each column can have a different data type (integer, float, string, etc.), making it versatile.\n",
        "\n",
        "2. Indexing: Both rows and columns have labels. The row labels are referred to as the index, and the column labels are simply called columns.\n",
        "\n",
        "3. Size-mutable: You can add or remove rows and columns dynamically after the DataFrame is created.\n",
        "\n",
        "4. Data Types: Each column in a DataFrame can have its own data type (e.g., integers, floats, strings), allowing for flexibility in data representation.\n",
        "\n",
        "5. Missing Data: Pandas provides built-in functionality to handle missing or NA (Not Available) values efficiently.\n",
        "\n",
        "- Basic Example:"
      ],
      "metadata": {
        "id": "QnzSgaHj3-0I"
      }
    },
    {
      "cell_type": "code",
      "source": [
        "import pandas as pd\n",
        "\n",
        "# Create a DataFrame\n",
        "data = {'Name': ['Alice', 'Bob', 'Charlie'],\n",
        "        'Age': [25, 30, 35],\n",
        "        'City': ['New York', 'Los Angeles', 'Chicago']}\n",
        "\n",
        "df = pd.DataFrame(data)\n",
        "\n",
        "# Display the DataFrame\n",
        "print(df)"
      ],
      "metadata": {
        "id": "XEYHATpi41lm"
      },
      "execution_count": null,
      "outputs": []
    },
    {
      "cell_type": "markdown",
      "source": [
        "- Common Operations with DataFrames:\n",
        "1. Accessing Columns: You can access columns using the column name:\n",
        "        df['Name']\n",
        "2. Filtering Data: You can filter data based on conditions:\n",
        "\n",
        "        df[df['Age'] > 30]\n",
        "3. Adding/Removing Columns: You can add new columns or drop existing ones:\n",
        "\n",
        "         df['Country'] = ['USA', 'USA', 'USA']  # Adding a new column\n",
        "         df.drop('City', axis=1, inplace=True)   # Removing a column\n",
        "4. Descriptive Statistics: You can use methods like describe() to get statistical summaries of numeric columns:\n",
        "\n",
        "           df.describe()\n",
        "5. Handling Missing Values: Pandas has functions like fillna() and dropna() to handle missing data.\n",
        "\n",
        "- Use Cases:\n",
        "1. Data Cleaning and Transformation: With its versatile methods, you can clean, filter, and modify data.\n",
        "2. Data Analysis: It's commonly used in data science and analytics for statistical analysis and machine learning preprocessing.\n",
        "3. Data Visualization: Pandas works seamlessly with visualization libraries like Matplotlib and Seaborn for plotting data.\n",
        "\n",
        "--------"
      ],
      "metadata": {
        "id": "L2bNZZW142nL"
      }
    },
    {
      "cell_type": "markdown",
      "source": [
        "###Q4. Explain the use of the groupby() method in Pandas.\n",
        "Ans. The groupby() method in Pandas is a powerful tool for performing operations on subsets of a dataset, allowing you to group data based on one or more columns and then apply a function to each group. It is particularly useful for summarizing, transforming, or aggregating data.\n",
        "\n",
        "- Basic Syntax\n",
        "         df.groupby('column_name')\n",
        "\n",
        "- Key Steps Involved in groupby()\n",
        "1. Splitting: The data is split into groups based on the values in the specified column(s).\n",
        "2. Applying: A function is applied to each group, such as aggregation, transformation, or filtration.\n",
        "3. Combining: The results of the function are combined back into a DataFrame or Series.\n",
        "\n",
        "- Examples of Using groupby()\n",
        "1. Group by a single column and aggregate"
      ],
      "metadata": {
        "id": "hpJp__vH7Rpg"
      }
    },
    {
      "cell_type": "code",
      "source": [
        "import pandas as pd\n",
        "\n",
        "data = {\n",
        "    'Category': ['A', 'B', 'A', 'B', 'A'],\n",
        "    'Values': [10, 20, 30, 40, 50]\n",
        "}\n",
        "\n",
        "df = pd.DataFrame(data)"
      ],
      "metadata": {
        "id": "dZvKOGRx7xsv"
      },
      "execution_count": null,
      "outputs": []
    },
    {
      "cell_type": "markdown",
      "source": [
        "2. Group by multiple columns"
      ],
      "metadata": {
        "id": "n4m05M4774d0"
      }
    },
    {
      "cell_type": "code",
      "source": [
        "data = {\n",
        "    'Category': ['A', 'B', 'A', 'B', 'A'],\n",
        "    'Type': ['X', 'X', 'Y', 'Y', 'X'],\n",
        "    'Values': [10, 20, 30, 40, 50]\n",
        "}\n",
        "\n",
        "df = pd.DataFrame(data)\n",
        "df.groupby(['Category', 'Type'])['Values'].sum()"
      ],
      "metadata": {
        "id": "dGhj5Xlz75T6"
      },
      "execution_count": null,
      "outputs": []
    },
    {
      "cell_type": "markdown",
      "source": [
        "3. Using aggregation functions"
      ],
      "metadata": {
        "id": "vvUKSLYz79AC"
      }
    },
    {
      "cell_type": "code",
      "source": [
        "df.groupby('Category')['Values'].agg(['sum', 'mean', 'count'])"
      ],
      "metadata": {
        "id": "RQbnJ-fP8ADk"
      },
      "execution_count": null,
      "outputs": []
    },
    {
      "cell_type": "markdown",
      "source": [
        "4. Transforming data"
      ],
      "metadata": {
        "id": "IftY1hsw8EQV"
      }
    },
    {
      "cell_type": "code",
      "source": [
        "df['Normalized'] = df.groupby('Category')['Values'].transform(lambda x: (x - x.mean()) / x.std())"
      ],
      "metadata": {
        "id": "lI52n0r68Ez_"
      },
      "execution_count": null,
      "outputs": []
    },
    {
      "cell_type": "markdown",
      "source": [
        "5. Filtering groups"
      ],
      "metadata": {
        "id": "PrSZwHqJ8Gxp"
      }
    },
    {
      "cell_type": "code",
      "source": [
        "df.groupby('Category').filter(lambda x: x['Values'].mean() > 25)"
      ],
      "metadata": {
        "id": "pUdqOiOU8JXQ"
      },
      "execution_count": null,
      "outputs": []
    },
    {
      "cell_type": "markdown",
      "source": [
        "---\n",
        "###Q5.  Why is Seaborn preferred for statistical visualizations?\n",
        "Ans. Seaborn is often preferred for statistical visualizations due to its numerous advantages that simplify and enhance the process of creating informative and aesthetically pleasing charts.\n",
        "- Here are some key reasons why Seaborn is favored for statistical visualizations:\n",
        "\n",
        "1. Built-in Statistical Functions\n",
        "\n",
        "Seaborn integrates a variety of statistical functions directly into its plotting functions. For example, functions like sns.regplot() can automatically fit regression lines to data, and sns.boxplot() provides summary statistics (like median, quartiles, and outliers) along with the visual representation. This makes it easier to perform statistical analysis directly within the plots.\n",
        "\n",
        "2. Simple and High-Level API\n",
        "\n",
        "Seaborn provides a high-level interface for creating complex visualizations with just a few lines of code. For instance, you can create heatmaps, pair plots, or distribution plots with simple commands, without needing to manually compute the statistics. This simplicity helps in quickly producing insightful visualizations without needing to write complex code.\n",
        "\n",
        "3. Better Integration with Pandas\n",
        "\n",
        "Seaborn is designed to work seamlessly with Pandas DataFrames. It accepts Pandas DataFrame structures directly, allowing you to work with real-world datasets more naturally. This feature is helpful when dealing with statistical visualizations of structured data, as you can avoid manually reshaping or cleaning data before plotting.\n",
        "\n",
        "4. Aesthetic and Visual Appeal\n",
        "\n",
        "Seaborn comes with a variety of built-in themes and color palettes that automatically make plots more visually appealing. The default styles are generally better than those in Matplotlib, providing polished, professional-looking charts right out of the box, which is especially useful in data presentation.\n",
        "\n",
        "5. Advanced Plot Types for Statistical Analysis\n",
        "\n",
        "Seaborn supports advanced statistical plots like violin plots, pair plots, joint plots, and categorical plots that are tailored for analyzing distributions and relationships within the data. These types of plots make it easier to explore and interpret the underlying statistical properties of the data.\n",
        "\n",
        "6. Handling of Complex Data Structures\n",
        "\n",
        "Seaborn supports grouping and faceting for visualizing relationships within subsets of data. Functions like sns.lmplot() and sns.catplot() enable you to easily plot different categories or conditions, offering a more granular view of the data. This is especially helpful for exploring how variables interact across multiple categories or conditions.\n",
        "\n",
        "7. Automatic Calculation of Summary Statistics\n",
        "\n",
        "Many Seaborn functions automatically compute and display key statistical summaries, such as means, medians, standard deviations, and confidence intervals, within the visualizations. This is helpful when you want to quickly get a sense of the data’s central tendency and spread.\n",
        "\n",
        "8. Support for Multiple Data Types\n",
        "\n",
        "Seaborn can handle both univariate and multivariate data with ease, and it allows for both categorical and continuous data visualizations. This versatility makes it a powerful tool for a wide range of statistical analyses.\n",
        "\n",
        "9. Facets for Multi-Plot Grids\n",
        "\n",
        "Seaborn's ability to create facet grids, such as with sns.FacetGrid() or sns.pairplot(), allows for the easy creation of multi-panel plots. This is particularly useful for comparing the relationships between multiple variables and for examining how a single variable behaves across different levels of other variables.\n",
        "\n",
        "10. Seamless Integration with Matplotlib\n",
        "\n",
        "While Seaborn is built on top of Matplotlib, it abstracts away many of the complexities of working with Matplotlib directly. You can still use Matplotlib commands to customize Seaborn plots, making it easy to fine-tune the final result without losing Seaborn's ease of use.\n",
        "\n",
        "----\n"
      ],
      "metadata": {
        "id": "qvuHEGKO8NTz"
      }
    },
    {
      "cell_type": "markdown",
      "source": [
        "###Q6. What are the differences between NumPy arrays and Python lists?\n",
        "Ans. NumPy arrays and Python lists are both used to store collections of data, but they have several key differences. Here's a breakdown:\n",
        "\n",
        "1. Data Type Uniformity\n",
        "- Python List: Can store elements of different data types (e.g., integers, strings, objects).\n",
        "\n",
        "        my_list = [1, \"hello\", 3.5, True]\n",
        "- NumPy Array: Requires all elements to be of the same data type (e.g., all integers, all floats).\n",
        "\n",
        "         import numpy as np\n",
        "        my_array = np.array([1, 2, 3, 4])  # All elements are integers\n",
        "\n",
        "2. Performance\n",
        "- Python List: Slower for mathematical operations and large datasets. Lists are flexible, but their performance suffers when used for numerical computations.\n",
        "- NumPy Array: Optimized for performance, especially for numerical operations on large datasets. NumPy arrays are implemented in C, which makes them much faster for operations like matrix multiplications, element-wise addition, etc.\n",
        "3. Memory Efficiency\n",
        "- Python List: Stores pointers to objects in memory, which results in higher overhead and less efficient use of memory, especially for large datasets.\n",
        "- NumPy Array: Stores data in a contiguous block of memory, which leads to better memory utilization and faster access.\n",
        "4. Element-wise Operations\n",
        "- Python List: Does not support element-wise operations directly. To perform mathematical operations, you would need to use loops or list comprehensions.\n",
        "\n",
        "      my_list = [1, 2, 3]\n",
        "      my_list = [x * 2 for x in my_list]  # Using list comprehension\n",
        "- NumPy Array: Supports vectorized operations, meaning you can apply mathematical operations directly to arrays without needing loops, which is both more concise and faster.\n",
        "\n",
        "       import numpy as np\n",
        "      my_array = np.array([1, 2, 3])\n",
        "      my_array = my_array * 2  # Element-wise multiplication\n",
        "\n",
        "5. Multi-dimensional Arrays\n",
        "- Python List: Can be used to simulate multi-dimensional arrays by using lists of lists (nested lists), but it’s less efficient and cumbersome.\n",
        "\n",
        "        my_list = [[1, 2, 3], [4, 5, 6]]\n",
        "- NumPy Array: Supports true multi-dimensional arrays (matrices, tensors, etc.) directly and efficiently.\n",
        "\n",
        "        my_array = np.array([[1, 2, 3], [4, 5, 6]])  # 2D array\n",
        "\n",
        "6. Size Flexibility\n",
        "- Python List: Lists can dynamically resize as elements are added or removed, making them flexible.\n",
        "- NumPy Array: Arrays have a fixed size once created. You can't change the size of an existing NumPy array directly, but you can create a new array or resize it with specific functions (np.resize).\n",
        "7. Built-in Functions\n",
        "- Python List: Offers basic methods like append(), remove(), pop(), and extend(), but lacks specialized functions for mathematical operations.\n",
        "- NumPy Array: Comes with a rich set of mathematical functions (like np.sum(), np.mean(), np.dot()) and array manipulation methods (like reshaping, slicing, and broadcasting).\n",
        "8. Slicing and Indexing\n",
        "- Python List: Supports basic slicing and indexing, but doesn't offer the advanced slicing capabilities of NumPy.\n",
        "\n",
        "       my_list = [0, 1, 2, 3, 4]\n",
        "       sliced = my_list[1:3]  # Slicing a list\n",
        "- NumPy Array: Offers advanced slicing, broadcasting, and indexing capabilities, such as slicing along multiple axes or selecting subsets based on conditions.\n",
        "\n",
        "       my_array = np.array([0, 1, 2, 3, 4])\n",
        "       sliced = my_array[1:3]  # Similar, but NumPy supports more complex slicing\n",
        "\n",
        "9. Compatibility with Libraries\n",
        "- Python List: Python lists are general-purpose and can be used with any Python code.\n",
        "- NumPy Array: Specifically designed for numerical computing and is the standard data structure in many scientific and machine learning libraries (e.g., SciPy, TensorFlow, pandas).\n",
        "10. Use Cases\n",
        "- Python List: Best for general-purpose, heterogeneous data storage when performance and numerical operations are not a priority.\n",
        "- NumPy Array: Best for large-scale numerical data, scientific computing, and operations that require high performance.\n",
        "\n",
        "--------"
      ],
      "metadata": {
        "id": "NNrLj03zJBbJ"
      }
    },
    {
      "cell_type": "markdown",
      "source": [
        "###Q7. What is a heatmap, and when should it be used?\n",
        "Ans. A heatmap is a data visualization tool that uses color to represent the intensity or magnitude of values in a two-dimensional space. It provides a way to easily spot patterns, trends, or anomalies in data by associating data values with colors. The typical heatmap is a grid or matrix where:\n",
        "\n",
        "- Each cell represents a value from a dataset.\n",
        "- Color gradients indicate the scale of the values (e.g., dark blue could indicate low values, and dark red might represent high values).\n",
        "\n",
        "---> Key Features of Heatmaps:\n",
        "- Colors represent data values: A color scale is used to show how values change across the matrix.\n",
        "- Visual patterns: Heatmaps are good at showing correlations, distributions, or differences across dimensions, often making it easier to detect patterns and insights.\n",
        "- Two dimensions: Usually, heatmaps work in two dimensions (rows and columns), but variations like geographical heatmaps (mapping data to geographical locations) exist.\n",
        "\n",
        "---> When Should Heatmaps Be Used?\n",
        "1. Identifying Patterns or Relationships:\n",
        "\n",
        "When you need to quickly spot trends, correlations, or patterns within large datasets, such as user behavior or business performance metrics.\n",
        "2. Correlation Analysis:\n",
        "\n",
        "Heatmaps are commonly used to visualize correlation matrices in statistics, where the strength and direction of the relationship between multiple variables can be quickly seen.\n",
        "3. Comparing Large Datasets:\n",
        "\n",
        "For comparing many variables at once, especially in large datasets (e.g., gene expression data in biology, customer data in business analytics).\n",
        "4. Geospatial Data:\n",
        "\n",
        "In geographic mapping (e.g., heatmaps can show the density of occurrences like crimes, traffic, or website visits in specific regions).\n",
        "5. Website and App Analytics:\n",
        "\n",
        "Click heatmaps and scroll heatmaps are used to analyze user behavior on websites. These heatmaps show which areas of a page are getting the most interaction (e.g., clicks, hovers).\n",
        "6. Monitoring Performance or Metrics Over Time:\n",
        "\n",
        "Used for visualizing time-series data, such as daily temperatures over a year, or sales performance across months or regions.\n",
        "7. Examples of Heatmap Use:\n",
        "- Business: Analyzing sales performance across different regions or products.\n",
        "- Healthcare: Displaying the presence of diseases or conditions in different areas of the body or on a geographical map.\n",
        "- Sports: Showing the movement of players on a field during a game.\n",
        "- Technology: Visualizing network traffic or server performance metrics.\n",
        "\n",
        "---> Advantages:\n",
        "- Easy to understand with visual color encoding.\n",
        "- Efficient for spotting high-level patterns.\n",
        "- Intuitive for large datasets, especially in exploratory analysis.\n",
        "\n",
        "---> Disadvantages:\n",
        "- Color choices can be misleading if not selected carefully.\n",
        "- They can be hard to interpret without proper context or labeling.\n",
        "- Not suitable for very detailed, high-precision data analysis.\n",
        "\n",
        "-------"
      ],
      "metadata": {
        "id": "tt4qsgO9Nc2z"
      }
    },
    {
      "cell_type": "markdown",
      "source": [
        "###Q8. What does the term “vectorized operation” mean in NumPy?\n",
        "Ans. In NumPy, a vectorized operation refers to the ability to perform operations on entire arrays (or large datasets) without the need for explicit loops. Instead of iterating through elements of an array one by one, NumPy allows you to apply operations directly on the entire array or element-wise across the entire dataset, which is much faster and more efficient.\n",
        "\n",
        "- Key Points of Vectorized Operations in NumPy:\n",
        "1. Element-wise Operations: You can perform mathematical operations on entire arrays or matrices in a single step. For example, adding two arrays together will add corresponding elements of the arrays without using explicit for loops."
      ],
      "metadata": {
        "id": "2D_Pp-PwOj3L"
      }
    },
    {
      "cell_type": "code",
      "source": [
        "import numpy as np\n",
        "\n",
        "a = np.array([1, 2, 3])\n",
        "b = np.array([4, 5, 6])\n",
        "\n",
        "result = a + b  # Adds corresponding elements of 'a' and 'b' element-wise\n",
        "print(result)  # Output: [5 7 9]"
      ],
      "metadata": {
        "id": "Yx4ITtqPPL0i"
      },
      "execution_count": null,
      "outputs": []
    },
    {
      "cell_type": "markdown",
      "source": [
        "2. Efficiency: Vectorized operations in NumPy are implemented in compiled C code, which is highly optimized and faster than using Python's native loops. This leads to improved performance, especially for large arrays.\n",
        "\n",
        "3. Broadcasting: NumPy also supports broadcasting, where arrays of different shapes can be combined in a way that aligns their dimensions automatically. This eliminates the need for manually expanding arrays."
      ],
      "metadata": {
        "id": "fCGJOsuePNz6"
      }
    },
    {
      "cell_type": "code",
      "source": [
        "a = np.array([1, 2, 3])\n",
        "b = 5  # Scalar\n",
        "\n",
        "result = a * b  # Scalar multiplication, each element of 'a' is multiplied by 5\n",
        "print(result)  # Output: [5 10 15]"
      ],
      "metadata": {
        "id": "J8k9Nst-SO5T"
      },
      "execution_count": null,
      "outputs": []
    },
    {
      "cell_type": "markdown",
      "source": [
        "4. Avoiding Loops: Vectorized operations allow you to avoid using Python for loops. For instance, calculating the square of each element of an array without vectorization would look like this:"
      ],
      "metadata": {
        "id": "jL3--o2dSReB"
      }
    },
    {
      "cell_type": "code",
      "source": [
        "result = []\n",
        "for x in a:\n",
        "    result.append(x**2)"
      ],
      "metadata": {
        "id": "8cx_CyNzSU7l"
      },
      "execution_count": null,
      "outputs": []
    },
    {
      "cell_type": "markdown",
      "source": [
        "-----\n",
        "###Q9. How does Matplotlib differ from Plotly?\n",
        "Ans. Matplotlib and Plotly are both popular Python libraries used for creating visualizations, but they differ in terms of interactivity, design, ease of use, and customization options. Here's a comparison of key differences between the two:\n",
        "\n",
        "1. Interactivity:\n",
        "- Matplotlib: Primarily designed for static plots. It creates basic, high-quality plots and is mainly used for creating figures like line plots, bar charts, histograms, etc. It doesn't natively support interactive elements like zooming, panning, or tooltips.\n",
        "- Plotly: Specifically designed for creating interactive plots. It supports features such as zooming, panning, hover effects (tooltips), and dynamic updates, which makes it ideal for dashboards and data exploration.\n",
        "2. Ease of Use:\n",
        "- Matplotlib: While Matplotlib can create a wide range of visualizations, it often requires more code and a deeper understanding of its API. Customizing visualizations in Matplotlib can be more complex, especially when working with advanced plots.\n",
        "- Plotly: Generally considered more user-friendly for creating interactive plots. Plotly's syntax tends to be more concise, especially when creating interactive and complex visualizations.\n",
        "3. Aesthetics:\n",
        "- Matplotlib: The default appearance of plots is functional but tends to look basic or minimalistic. However, it provides deep customization options for fine-tuning the style and design of plots.\n",
        "- Plotly: Produces visually appealing, modern plots by default, with better color schemes and layouts. This makes it a good choice when you need attractive visualizations without too much customization effort.\n",
        "4. Customizability:\n",
        "- Matplotlib: Highly customizable with full control over every aspect of the plot, from axis labels to grid lines, tick marks, and more. If you're looking for intricate control over plot details, Matplotlib is the better choice.\n",
        "- Plotly: Offers a good degree of customization, especially for interactive features like hover effects and dynamic charts. However, it may not offer the same low-level control over plot details as Matplotlib.\n",
        "5. Plot Types:\n",
        "- Matplotlib: Supports a broad range of basic and complex plots (e.g., line charts, bar charts, scatter plots, histograms, heatmaps, etc.). It also allows for 3D plotting, but it requires more code and is less intuitive.\n",
        "- Plotly: Provides a more extensive collection of interactive plot types, including geographical maps, 3D plots, and more specialized visualizations. Plotly also integrates well with dashboards and web applications.\n",
        "6. Integration with Web Applications:\n",
        "- Matplotlib: Primarily designed for creating static images, so it's less suited for embedding in web applications. However, it can be used with tools like mpld3 or Dash for adding interactivity.\n",
        "- Plotly: Integrates seamlessly with web frameworks and tools such as Dash, making it highly suited for building interactive dashboards and web-based applications directly.\n",
        "7. Output Formats:\n",
        "- Matplotlib: Outputs static images by default, such as PNG, PDF, SVG, etc., which are great for publication-ready figures.\n",
        "- Plotly: Outputs interactive HTML plots that can be embedded into web pages or shared as standalone interactive files. Plotly can also export to static formats like PNG and SVG but is best known for its interactivity.\n",
        "8. Performance:\n",
        "- Matplotlib: Generally better suited for handling simple plots with large datasets in terms of performance. Since it produces static images, it does not require significant resources for rendering.\n",
        "- Plotly: While it handles large datasets well for interactive plots, performance may degrade with very large datasets or complex interactions due to the rendering of interactive features in the browser.\n",
        "9. Community and Ecosystem:\n",
        "- Matplotlib: Being one of the oldest and most widely used plotting libraries in Python, Matplotlib has a very large and mature ecosystem. There is extensive documentation and community support.\n",
        "- Plotly: Plotly's ecosystem is also large, but it is newer compared to Matplotlib. It has become increasingly popular, particularly in the web-based data science community, and is well-supported by both Plotly's own documentation and a growing community.\n",
        "10. Use Cases:\n",
        "- Matplotlib: Best for static, high-quality plots for publications, reports, or simple visualizations where interactivity is not necessary. Ideal for scientific computing, engineering, and academics.\n",
        "- Plotly: Best for creating interactive visualizations for data exploration, web dashboards, and presentations. Great for applications where interactivity adds value, such as in business intelligence, financial analysis, or data-driven websites.\n",
        "\n",
        "-----"
      ],
      "metadata": {
        "id": "1VAvcW5JSers"
      }
    },
    {
      "cell_type": "markdown",
      "source": [
        "###Q10. What is the significance of hierarchical indexing in Pandas?\n",
        "Ans. Hierarchical indexing in Pandas (also known as MultiIndex) is a powerful feature that allows you to work with data that has multiple levels of indexing. This feature is especially useful when dealing with complex datasets that require multi-dimensional indexing, as it enables you to access and manipulate data more efficiently. Here’s a breakdown of its significance:\n",
        "\n",
        "1. Handling Complex Data Structures:\n",
        "\n",
        "Hierarchical indexing allows you to represent and manipulate datasets with more than one index (or dimension). For example, you can use it to represent data in multi-level tables, such as:\n",
        "\n",
        "Time series data, where data might be indexed by year, month, and day.\n",
        "Multi-dimensional data like stock prices for different companies across various cities and time periods.\n",
        "This enables a more intuitive way of organizing, querying, and analyzing data.\n",
        "\n",
        "2. More Flexible Data Access:\n",
        "\n",
        "With a hierarchical index, you can access specific subsets of data at different levels of the index. For example:\n",
        "\n",
        "You can easily slice data based on a higher-level index (e.g., retrieving all data for a particular year or a specific category).\n",
        "You can drill down into a specific level of detail, such as extracting data for a particular year and month.\n",
        "\n",
        "\n",
        "Example:\n",
        "\n",
        "    df.loc[('2023', 'January')]  # Access data for 2023, January\n",
        "\n",
        "3. Efficient Grouping and Aggregation:\n",
        "\n",
        "Hierarchical indexes make grouping and aggregation operations much more efficient. For example, you can use groupby operations on multiple levels of the index, performing aggregation (like sum, mean, etc.) on data grouped by both time and other categories, such as:\n",
        "\n",
        "Grouping by both year and month for time series data to calculate monthly averages.\n",
        "\n",
        "    df.groupby(['Year', 'Month']).mean()  # Group by year and month, then calculate mean\n",
        "\n",
        "4. Advanced Data Manipulation:\n",
        "\n",
        "Hierarchical indexing facilitates more advanced data manipulations, such as:\n",
        "\n",
        "- Pivoting data (i.e., reshaping the data structure).\n",
        "- Stacking and unstacking data: Moving levels of the index into columns (unstack) or back into the index (stack).\n",
        "- Multi-level slicing, allowing for greater flexibility when filtering and selecting data.\n",
        "5. Improved Performance:\n",
        "\n",
        "Operations on hierarchical indexed DataFrames are often more efficient than those on regular DataFrames because Pandas internally stores and manipulates the data using optimized algorithms for multi-level indexing. This can improve performance when working with large datasets.\n",
        "\n",
        "6. Better Representation of Data:\n",
        "\n",
        "MultiIndex allows you to represent complex data structures in a more readable and organized manner. For example, it allows combining different categories (e.g., company, region, time) as part of the index, which might be more difficult to represent without hierarchical indexing.\n",
        "\n",
        "Example:\n"
      ],
      "metadata": {
        "id": "tF5CDP3P0sRf"
      }
    },
    {
      "cell_type": "code",
      "source": [
        "import pandas as pd\n",
        "import numpy as np\n",
        "\n",
        "# Create a multi-level index (store, year, quarter)\n",
        "index = pd.MultiIndex.from_tuples([\n",
        "    ('Store A', 2023, 'Q1'),\n",
        "    ('Store A', 2023, 'Q2'),\n",
        "    ('Store B', 2023, 'Q1'),\n",
        "    ('Store B', 2023, 'Q2'),\n",
        "], names=['Store', 'Year', 'Quarter'])\n",
        "\n",
        "# Create a DataFrame with the multi-level index\n",
        "data = {'Sales': [100, 150, 200, 250]}\n",
        "df = pd.DataFrame(data, index=index)\n",
        "\n",
        "print(df)"
      ],
      "metadata": {
        "id": "SAFxXXBF3FQx"
      },
      "execution_count": null,
      "outputs": []
    },
    {
      "cell_type": "markdown",
      "source": [
        "7. Improved Data Analysis in Multi-Dimensional Contexts:\n",
        "\n",
        "Hierarchical indexing is useful for datasets with more than one dimension of data (e.g., sales data for multiple stores across multiple years and quarters). It provides an intuitive and efficient way to analyze multi-dimensional data.\n",
        "\n",
        "-------"
      ],
      "metadata": {
        "id": "Ga0mSmw63OjI"
      }
    },
    {
      "cell_type": "markdown",
      "source": [
        "###Q11. What is the role of Seaborn’s pairplot() function?\n",
        "Ans. The pairplot() function in Seaborn is used for visualizing pairwise relationships in a dataset, typically to explore correlations and patterns between multiple variables. It creates a matrix of scatterplots for every pair of variables in the dataset and provides a useful way to quickly observe relationships among them. It also displays histograms (or kernel density estimates) on the diagonal for each individual variable.\n",
        "\n",
        "- Key Features of pairplot():\n",
        "1. Pairwise Scatterplots: It generates scatterplots for all possible pairs of numeric variables in the dataset, which helps visualize correlations and trends between those variables.\n",
        "2. Diagonal Histograms or KDEs: The diagonal of the pairplot typically contains histograms or kernel density plots (KDEs) of the individual variables, showing their distribution.\n",
        "3. Color-coding by Categories: If a categorical variable is passed, pairplot() can color the points according to different categories, which helps in understanding how the data points from different groups are distributed across pairs of variables.\n",
        "4. Customizable: You can customize the appearance of the plots (like adding a regression line, changing the color palette, or adjusting the markers) with various parameters.\n",
        "\n",
        "- Typical Use Cases:\n",
        "1. Exploring Data: It’s used as an exploratory tool to visually assess relationships between different variables, identify patterns, outliers, or correlations, and check distributions.\n",
        "2. Correlation Analysis: If you want to check how two variables interact or are related (e.g., if one increases as the other does).\n",
        "3. Class Separation: If you have a target categorical variable, pairplot() can be useful to see how well the features of different categories are separated in the feature space.\n",
        "\n",
        "Example:"
      ],
      "metadata": {
        "id": "1L-qkU2Y3fFh"
      }
    },
    {
      "cell_type": "code",
      "source": [
        "import seaborn as sns\n",
        "import pandas as pd\n",
        "# Load a sample dataset\n",
        "iris = sns.load_dataset(\"iris\")\n",
        "\n",
        "# Generate a pairplot\n",
        "sns.pairplot(iris, hue=\"species\")"
      ],
      "metadata": {
        "id": "7n3k98k2-2sq"
      },
      "execution_count": null,
      "outputs": []
    },
    {
      "cell_type": "markdown",
      "source": [
        "----\n",
        "###Q12. What is the purpose of the describe() function in Pandas?\n",
        "Ans. The describe() function in Pandas is used to generate descriptive statistics of a DataFrame or Series. It provides a summary of the central tendency, dispersion, and shape of the data distribution. This function is particularly useful for getting a quick overview of the numerical characteristics of a dataset.\n",
        "\n",
        "- Here are the main purposes and features of describe():\n",
        "\n",
        "1. Summary of Statistics: It calculates key statistics such as:\n",
        "\n",
        "- count: The number of non-null entries in each column.\n",
        "- mean: The average value of each column.\n",
        "- standard deviation (std): A measure of the spread or dispersion of the data.\n",
        "- min: The minimum value in each column.\n",
        "- 25th percentile (25%): The value below which 25% of the data lies (also known as the first quartile).\n",
        "- 50th percentile (50% or median): The middle value of the data.\n",
        "- 75th percentile (75%): The value below which 75% of the data lies (also known as the third quartile).\n",
        "- max: The maximum value in each column.\n",
        "- Applicability to Numerical Data: By default, describe() is applied to numerical columns in the DataFrame (e.g., int64, float64 types). However, it can also summarize categorical (object) columns when the include='object' argument is used.\n",
        "\n",
        "2. Customization: You can pass additional parameters to describe() to include specific types of data or modify the output. For example:\n",
        "\n",
        "- include='all': This includes both numerical and categorical data types.\n",
        "- percentiles=[list of percentages]: You can specify custom percentiles for the summary.\n",
        "\n",
        "Example:"
      ],
      "metadata": {
        "id": "RJ3JB2BL-38Y"
      }
    },
    {
      "cell_type": "code",
      "source": [
        "import pandas as pd\n",
        "\n",
        "# Sample DataFrame\n",
        "data = {'A': [1, 2, 3, 4, 5],\n",
        "        'B': [10, 20, 30, 40, 50],\n",
        "        'C': ['a', 'b', 'c', 'd', 'e']}\n",
        "\n",
        "df = pd.DataFrame(data)\n",
        "\n",
        "# Apply describe() to get summary statistics\n",
        "print(df.describe())"
      ],
      "metadata": {
        "id": "WFX3O82eA1x0"
      },
      "execution_count": null,
      "outputs": []
    },
    {
      "cell_type": "markdown",
      "source": [
        "###Q13. Why is handling missing data important in Pandas?\n",
        "Ans. 1. Accuracy of Analysis\n",
        "- Incomplete Data: Missing data can skew analysis, leading to inaccurate results. For example, if a dataset has missing values in key columns, any calculations or statistical models that rely on those columns may be incorrect.\n",
        "- Bias: Ignoring missing data or not handling it properly can introduce bias. For example, if certain categories or values are underrepresented due to missing data, the conclusions drawn from the data will not be fully representative of the population.\n",
        "2. Data Integrity\n",
        "- Data without missing values is more consistent and reliable, which is important for ensuring the integrity of the dataset. - Missing data can result from human error, data collection issues, or system failures, so addressing it appropriately maintains the quality of the data.\n",
        "3. Model Performance\n",
        "- Many machine learning algorithms (such as linear regression, decision trees, etc.) require complete datasets for accurate predictions. Missing values can cause errors in model training or performance degradation if they are not properly addressed.\n",
        "- Handling Missing Data Techniques: There are strategies such as imputation (filling in missing values), removal of rows with missing values, or using algorithms that can handle missing data (like certain tree-based models) effectively.\n",
        "4. Statistical Validity\n",
        "- Statistical methods often assume that the data is complete or that missing data is handled in a certain way. Not dealing with missing data could lead to invalid statistical results, such as underestimating variance, incorrectly calculating correlations, or using biased p-values.\n",
        "5. Efficiency in Processing\n",
        "- Working with incomplete datasets can increase computational complexity. Handling missing data (by dropping or filling values) can reduce unnecessary processing time, ensuring that only valid data is used in subsequent analysis steps.\n",
        "6. Data Cleaning and Preprocessing\n",
        "- Missing data is often one of the first steps in data cleaning. Identifying missing data helps in making informed decisions about how to handle it, whether to impute values, drop rows/columns, or use other methods like forward/backward filling.\n",
        "7. Real-World Data Complexity\n",
        "- In the real world, missing data is very common in datasets due to various reasons (e.g., data entry errors, survey non-response, sensor malfunctions). Therefore, it’s necessary to handle missing data as part of normal data processing pipelines to ensure the analysis is robust and realistic.\n",
        "- Common Approaches in Pandas for Handling Missing Data:\n",
        "Removing Missing Data: Dropping rows or columns with missing values (dropna()).\n",
        "- Imputation: Filling missing values with statistical measures such as mean, median, or mode (fillna()).\n",
        "- Forward/Backward Fill: Propagating the last valid observation forward or backward (fillna(method='ffill')).\n",
        "- Custom Filling: Filling missing values with domain-specific knowledge or predictions.\n",
        "\n",
        "-------"
      ],
      "metadata": {
        "id": "a57ZHkWNA-Fw"
      }
    },
    {
      "cell_type": "markdown",
      "source": [
        "###Q14. What are the benefits of using Plotly for data visualization?\n",
        "Ans. Plotly is a powerful library for data visualization that offers numerous benefits, making it a popular choice for data analysts, scientists, and developers. Here are some of the key benefits of using Plotly for data visualization:\n",
        "\n",
        "1. Interactive Visualizations\n",
        "- Plotly makes it easy to create interactive charts that allow users to zoom, pan, hover, and click for more information.\n",
        "- This interactivity helps in exploring data dynamically, which is especially useful for exploratory data analysis and presentations.\n",
        "2. Wide Range of Chart Types\n",
        "\n",
        " Plotly supports a diverse range of chart types, including:\n",
        "- Line plots, bar charts, scatter plots, pie charts, histograms\n",
        "- Heatmaps, contour plots, and 3D charts\n",
        "- Maps and geographical visualizations\n",
        "- Subplots and dashboards\n",
        "- This variety helps users create tailored visualizations that suit their data needs.\n",
        "3. High-Quality Aesthetics\n",
        "- Plotly’s visualizations are aesthetically pleasing and designed to be publication-ready, with smooth rendering and attractive color palettes.\n",
        "- Users can customize chart aesthetics (e.g., color, font, layout) to fit their desired presentation style.\n",
        "4. Ease of Use\n",
        "- Plotly’s API is intuitive, allowing users to create complex plots with minimal code.\n",
        "- It integrates well with other Python libraries like Pandas and NumPy, making it straightforward for users already familiar with those tools.\n",
        "- Plotly also supports multiple languages, including Python, R, JavaScript, and Julia, allowing versatility across different environments.\n",
        "5. Integration with Dash for Web Applications\n",
        "- Plotly can be easily integrated with Dash, a framework for building interactive web applications with Python.\n",
        "- Dash allows users to create dashboards with Plotly visualizations, adding interactive elements like dropdowns, sliders, and input boxes.\n",
        "6. Publication-Ready and Export Options\n",
        "- Visualizations created in Plotly can be easily exported to various formats, including static image formats (e.g., PNG, JPEG), vector images (SVG), or interactive HTML.\n",
        "- This makes it convenient for sharing visualizations in reports, publications, or web applications.\n",
        "7. Support for Complex and Customizable Visualizations\n",
        "- Plotly allows users to create complex visualizations with features like annotations, multiple axes, and multi-layered plots.\n",
        "- Users can also fine-tune their charts to meet specific needs by customizing axes, labels, and gridlines.\n",
        "8. Real-Time Data Streaming\n",
        "- Plotly supports real-time data visualization, making it ideal for scenarios where data is continuously updated (e.g., live dashboards, monitoring systems).\n",
        "- It can handle large datasets and offer real-time updates, which is useful for monitoring performance metrics or sensors.\n",
        "9. Cloud and Collaboration Features\n",
        "- Plotly offers a cloud service (Plotly Chart Studio) where users can create, share, and collaborate on visualizations.\n",
        "- Users can share charts directly online and embed them in websites, blogs, or reports.\n",
        "10. Cross-Platform Support\n",
        "- Plotly’s visualizations are web-based, meaning they are cross-platform and can be viewed in any modern web browser.\n",
        "- This makes it easy to share your work with others, regardless of the operating system they are using.\n",
        "11. Integration with Jupyter Notebooks\n",
        "- Plotly integrates well with Jupyter Notebooks, allowing users to create and display interactive plots directly within the notebook environment.\n",
        "- This feature is especially helpful for data scientists and analysts who use notebooks for analysis and sharing findings.\n",
        "12. Community and Documentation\n",
        "- Plotly has an active user community, providing access to a wide range of tutorials, examples, and troubleshooting resources.\n",
        "- The documentation is comprehensive and user-friendly, providing ample examples and clear explanations for new users.\n",
        "13. Support for Statistical and Scientific Visualizations\n",
        "- Plotly supports statistical charts like box plots, violin plots, and histograms, making it ideal for scientific and statistical data analysis.\n",
        "- It also offers tools for advanced charting, including regression lines, statistical fitting, and distribution plots.\n",
        "14. Open-Source and Free\n",
        "- Plotly is open-source and free to use for basic charting. There are also premium features available through paid services like - Plotly Cloud or Enterprise, but the core functionality is available to everyone at no cost.\n",
        "15. Scalability\n",
        "- Plotly can handle large datasets efficiently and render them as interactive plots, making it suitable for big data applications.\n",
        "\n",
        "---------"
      ],
      "metadata": {
        "id": "ZuYOgXmQCEoS"
      }
    },
    {
      "cell_type": "markdown",
      "source": [
        "###Q15.  How does NumPy handle multidimensional arrays?\n",
        "Ans. NumPy, a powerful library in Python for numerical computing, provides support for multidimensional arrays through its ndarray object. The ndarray is a flexible container for storing arrays of any dimension. Here’s how NumPy handles multidimensional arrays:\n",
        "\n",
        "1. Creation of Multidimensional Arrays\n",
        "\n",
        "You can create multidimensional arrays in NumPy using functions like numpy.array() and numpy.zeros(), numpy.ones(), or numpy.random.rand() for specific initializations. You can pass a list of lists or tuples (or even nested sequences) to create a multidimensional array."
      ],
      "metadata": {
        "id": "J16AUJFrEPZ9"
      }
    },
    {
      "cell_type": "code",
      "source": [
        "import numpy as np\n",
        "\n",
        "# Creating a 2D array (matrix)\n",
        "arr = np.array([[1, 2, 3], [4, 5, 6]])\n",
        "\n",
        "# Creating a 3D array\n",
        "arr3d = np.array([[[1, 2], [3, 4]], [[5, 6], [7, 8]]])"
      ],
      "metadata": {
        "id": "74YVrHx-F9DH"
      },
      "execution_count": null,
      "outputs": []
    },
    {
      "cell_type": "markdown",
      "source": [
        "2. Shape and Dimensions\n",
        "\n",
        "- Shape: The shape of an ndarray is a tuple representing the dimensions of the array. For a 2D array, it's (rows, columns), and for a 3D array, it’s (depth, rows, columns).\n",
        "\n",
        "      arr.shape    # Output: (2, 3) for a 2x3 matrix\n",
        "      arr3d.shape  # Output: (2, 2, 2) for a 2x2x2 3D array\n",
        "\n",
        "- Dimensions (ndim): The number of axes (or dimensions) the array has.\n",
        "\n",
        "      arr.ndim     # Output: 2 for a 2D array\n",
        "      arr3d.ndim   # Output: 3 for a 3D array\n",
        "\n",
        "3. Indexing and Slicing\n",
        "\n",
        "NumPy allows efficient indexing and slicing of multidimensional arrays. The syntax for indexing is similar to Python’s built-in lists but allows for multiple dimensions.\n",
        "\n",
        "- 1D Array Indexing:\n",
        "        arr1d = np.array([1, 2, 3])\n",
        "        arr1d[0]  # Output: 1\n",
        "\n",
        "- 2D Array Indexing:\n",
        "\n",
        "      arr2d = np.array([[1, 2, 3], [4, 5, 6]])\n",
        "     arr2d[0, 1]  # Output: 2 (accessing first row, second column)\n",
        "\n",
        "- Slicing Multidimensional Arrays: You can slice multidimensional arrays using ranges for each dimension.\n",
        "\n",
        "      arr2d[:1, 1:]  # Output: [[2, 3]]\n",
        "\n",
        "4. Broadcasting\n",
        "\n",
        "Broadcasting is one of NumPy’s powerful features that allows for operations between arrays of different shapes, aligning them in a way that makes sense (without copying data). For example, adding a scalar to a multidimensional array:\n",
        "\n",
        "      arr = np.array([[1, 2], [3, 4]])\n",
        "      arr + 5  # Output: [[6, 7], [8, 9]]\n",
        "\n",
        "5. Vectorization\n",
        "\n",
        "- NumPy enables element-wise operations (like addition, multiplication) across entire arrays without the need for explicit loops. This is often referred to as vectorization, and it's much faster than using Python loops.\n",
        "\n",
        "      arr = np.array([[1, 2], [3, 4]])\n",
        "      arr * 2  # Output: [[2, 4], [6, 8]]\n",
        "6. Reshaping and Flattening\n",
        "\n",
        "- Reshaping: You can change the shape of a multidimensional array without changing its data. This is done using the reshape() method.\n",
        "\n",
        "        arr = np.array([1, 2, 3, 4, 5, 6])\n",
        "        reshaped_arr = arr.reshape(2, 3)  # Output: [[1, 2, 3], [4, 5, 6]]\n",
        "\n",
        "- Flattening: You can convert a multidimensional array into a 1D array using flatten() or ravel() (returns a flattened view).\n",
        "\n",
        "        arr = np.array([[1, 2, 3], [4, 5, 6]])\n",
        "        flattened = arr.flatten()  # Output: [1, 2, 3, 4, 5, 6]\n",
        "\n",
        "7. Manipulating Multidimensional Arrays\n",
        "\n",
        "NumPy also provides many built-in functions for manipulating arrays, such as:\n",
        "\n",
        "- np.concatenate() for joining arrays along specified axes.\n",
        "- np.split() for splitting arrays.\n",
        "- np.transpose() for transposing (i.e., switching rows and columns).\n",
        "\n",
        "-------"
      ],
      "metadata": {
        "id": "6ftrb_sTF97K"
      }
    },
    {
      "cell_type": "markdown",
      "source": [
        "###Q16. What is the role of Bokeh in data visualization?\n",
        "Ans. Bokeh is a powerful and flexible Python library for creating interactive, visually appealing data visualizations. It is primarily designed to handle large and streaming datasets in real-time applications, making it ideal for web-based interactive plots. Below are the main roles and features of Bokeh in data visualization:\n",
        "\n",
        "1. Interactive Visualizations\n",
        "Bokeh excels at creating highly interactive visualizations. It allows users to zoom, pan, hover, and click on elements of a plot, making it ideal for data exploration. These interactions can be customized and controlled, enhancing the user experience when analyzing datasets.\n",
        "2. Real-time Data and Streaming\n",
        "Bokeh supports real-time data updates and streaming visualizations. It allows users to display live data on web applications, ideal for dashboards or visualizing changes in real time (e.g., stock market trends or sensor data).\n",
        "3. High-Quality Plots for the Web\n",
        "Plots generated with Bokeh can be embedded directly into web applications as HTML, which can then be displayed in web browsers. It supports a wide range of plots, including line, bar, scatter, and geographical plots, and can be easily integrated into web frameworks like Flask and Django.\n",
        "4. Customization and Flexibility\n",
        "With Bokeh, you can have fine-grained control over your plots' appearance. You can customize things like axes, tooltips, colors, legends, and layout, allowing you to create tailor-made visualizations for your data.\n",
        "5. Integration with Other Python Libraries\n",
        "Bokeh integrates well with other Python libraries such as Pandas for data manipulation, NumPy for numerical computing, and Matplotlib for more complex, static visualizations. This allows data scientists to combine the strengths of different tools to create effective visualizations.\n",
        "6. Support for Large Datasets\n",
        "Bokeh is optimized for handling large datasets without compromising performance. This makes it suitable for creating visualizations that handle millions of data points efficiently by using techniques like downsampling or server-side processing.\n",
        "7. Server-based Applications\n",
        "Bokeh can be used to create server-side applications using Bokeh Server, which allows the creation of interactive web applications that can update dynamically in response to user input or data changes.\n",
        "8. Visualizing Geographic Data\n",
        "Bokeh has built-in support for creating geographical plots using tile sources and plotting data on maps. This is particularly useful for applications involving location-based data, such as geographic information systems (GIS).\n",
        "9. Integration with Jupyter Notebooks\n",
        "Bokeh works seamlessly with Jupyter Notebooks, allowing users to create interactive plots that can be displayed directly in the notebook. This is especially useful for data exploration, teaching, and presentations.\n",
        "10. Versatility\n",
        "Bokeh provides both simple and advanced plotting features, enabling users to create everything from basic visualizations to sophisticated dashboards with interactivity, linked plots, or custom widgets like sliders and buttons.\n",
        "\n",
        "-------"
      ],
      "metadata": {
        "id": "iQzWo51UHsKY"
      }
    },
    {
      "cell_type": "markdown",
      "source": [
        "###Q17. Explain the difference between apply() and map() in Pandas.\n",
        "Ans. In Pandas, both apply() and map() are used to apply functions to DataFrame or Series objects, but they differ in their usage, flexibility, and the types of data they operate on. Here's a breakdown of the key differences:\n",
        "\n",
        "1. Basic Functionality:\n",
        "- apply(): Can be used on both Series and DataFrame. It allows you to apply a function along a particular axis (rows or columns) of a DataFrame or to the entire Series. The function passed to apply() can be more complex and is typically used when you need to perform operations that might involve multiple columns or need to aggregate data.\n",
        "- map(): Primarily used on Series. It is designed to map a function, dictionary, or Series to each element in the Series. It works element-wise and is simpler, often used for element-wise transformations like replacing values or applying a transformation to each individual element.\n",
        "2. When to Use:\n",
        "- apply():\n",
        "\n",
        "(a) For row-wise or column-wise operations on a DataFrame.\n",
        "\n",
        "(b) When you need to apply a function across multiple columns in a DataFrame or perform aggregations.\n",
        "\n",
        "(c) You can also use apply() to apply functions to each element of a Series, but it can be slower compared to map() in those cases.\n",
        "- map():\n",
        "\n",
        "(a) For element-wise transformations of a Series.\n",
        "\n",
        "(b) When you need to replace values using a dictionary or Series.\n",
        "\n",
        "(c) Can also be used to apply functions to each element of a Series.\n",
        "3. Performance:\n",
        "- apply(): Can be slower than map() because it is more general-purpose and allows you to apply more complex operations. It's optimized for operations that involve multiple columns (in a DataFrame).\n",
        "- map(): Tends to be faster for simple element-wise operations on a Series.\n",
        "4. Function Type:\n",
        "- apply(): You can pass any callable function (e.g., a built-in function, lambda, or user-defined function). For DataFrames, you can specify whether to apply the function along rows or columns using the axis parameter.\n",
        "- map(): You typically pass a function, a dictionary, or a Series. If you pass a dictionary or a Series, map() will match the index of the Series or dictionary to the elements in the Series.\n",
        "5. Handling of Missing Values:\n",
        "- apply(): Can handle missing values (like NaN) depending on the function used.\n",
        "- map(): Handles missing values similarly. However, if a missing value is encountered while using a dictionary, the result will be NaN if no match is found.\n",
        "\n",
        "- Examples:\n",
        "\n",
        "Example 1: apply() on a DataFrame (Row-wise or Column-wise operations)\n"
      ],
      "metadata": {
        "id": "YwhHt7qiKU8v"
      }
    },
    {
      "cell_type": "code",
      "source": [
        "import pandas as pd\n",
        "\n",
        "# Sample DataFrame\n",
        "df = pd.DataFrame({\n",
        "    'A': [1, 2, 3],\n",
        "    'B': [4, 5, 6]\n",
        "})\n",
        "\n",
        "# Apply a function column-wise (default axis=0)\n",
        "df.apply(lambda x: x.sum())  # Sum of each column\n",
        "\n",
        "# Apply a function row-wise (axis=1)\n",
        "df.apply(lambda x: x.sum(), axis=1)  # Sum of each row"
      ],
      "metadata": {
        "id": "dpKOJ6WzLUbl"
      },
      "execution_count": null,
      "outputs": []
    },
    {
      "cell_type": "markdown",
      "source": [
        "Example 2: map() on a Series (Element-wise transformation)"
      ],
      "metadata": {
        "id": "6Tv32Y_ALWsh"
      }
    },
    {
      "cell_type": "code",
      "source": [
        "# Sample Series\n",
        "s = pd.Series([1, 2, 3, 4])\n",
        "\n",
        "# Map a function to each element in the Series\n",
        "s.map(lambda x: x ** 2)  # Square each element\n",
        "\n",
        "# Map using a dictionary to replace values\n",
        "s.map({1: 'a', 2: 'b', 3: 'c', 4: 'd'})"
      ],
      "metadata": {
        "id": "Ck3kOOqyLZ9Y"
      },
      "execution_count": null,
      "outputs": []
    },
    {
      "cell_type": "markdown",
      "source": [
        "------\n",
        "###Q18. What are some advanced features of NumPy?\n",
        "Ans. NumPy is a powerful library in Python for numerical computing. Beyond basic operations like array creation, slicing, and reshaping, it offers a variety of advanced features that enhance its utility for complex numerical tasks. Here are some of the advanced features of NumPy:\n",
        "\n",
        "1. Broadcasting\n",
        "- Broadcasting allows NumPy to perform element-wise operations on arrays of different shapes. It enables the automatic expansion of smaller arrays to match the shape of larger arrays, making it possible to perform arithmetic between arrays of incompatible shapes.\n",
        "- Example:\n",
        "\n"
      ],
      "metadata": {
        "id": "W3UhgqSBMefe"
      }
    },
    {
      "cell_type": "code",
      "source": [
        "import numpy as np\n",
        "a = np.array([1, 2, 3])\n",
        "b = np.array([[10], [20], [30]])\n",
        "result = a + b  # Broadcasting occurs here\n",
        "print(result)"
      ],
      "metadata": {
        "id": "EtjcARrfN7G5"
      },
      "execution_count": null,
      "outputs": []
    },
    {
      "cell_type": "markdown",
      "source": [
        "2. Vectorization\n",
        "- Vectorization refers to using NumPy's ability to perform element-wise operations on entire arrays without the need for explicit loops, resulting in more concise and optimized code. This makes NumPy operations much faster compared to using native Python loops.\n",
        "- Example:"
      ],
      "metadata": {
        "id": "l8o_b-VtODpn"
      }
    },
    {
      "cell_type": "code",
      "source": [
        "x = np.array([1, 2, 3, 4])\n",
        "y = np.array([5, 6, 7, 8])\n",
        "z = x * y  # Element-wise multiplication\n",
        "print(z)\n"
      ],
      "metadata": {
        "id": "VWzfJtirOKu_"
      },
      "execution_count": null,
      "outputs": []
    },
    {
      "cell_type": "markdown",
      "source": [
        "3. Advanced Indexing and Slicing\n",
        "- NumPy provides several powerful indexing features:\n",
        "- Boolean indexing: Mask arrays based on conditions."
      ],
      "metadata": {
        "id": "wqavXNOSON-u"
      }
    },
    {
      "cell_type": "code",
      "source": [
        "arr = np.array([1, 2, 3, 4, 5])\n",
        "mask = arr > 3\n",
        "print(arr[mask])  # [4, 5]"
      ],
      "metadata": {
        "id": "Rkb8b2mOOS9K"
      },
      "execution_count": null,
      "outputs": []
    },
    {
      "cell_type": "markdown",
      "source": [
        "- ancy indexing: Access elements using integer arrays or slices.\n",
        "\n"
      ],
      "metadata": {
        "id": "GlIKFuEIOVJC"
      }
    },
    {
      "cell_type": "code",
      "source": [
        "arr = np.array([10, 20, 30, 40, 50])\n",
        "indices = [1, 3]\n",
        "print(arr[indices])  # [20, 40]"
      ],
      "metadata": {
        "id": "2lTPQd7eOaei"
      },
      "execution_count": null,
      "outputs": []
    },
    {
      "cell_type": "markdown",
      "source": [
        "- Slicing with np.newaxis or None: Add new dimensions to arrays"
      ],
      "metadata": {
        "id": "lmPq4e50Ob_n"
      }
    },
    {
      "cell_type": "code",
      "source": [
        "arr = np.array([1, 2, 3])\n",
        "arr = arr[:, np.newaxis]  # Adds a new axis (column vector)\n",
        "print(arr)"
      ],
      "metadata": {
        "id": "WAygMcfSOe5M"
      },
      "execution_count": null,
      "outputs": []
    },
    {
      "cell_type": "markdown",
      "source": [
        "4. Linear Algebra Operations\n",
        "\n",
        "NumPy provides a variety of functions to perform matrix operations, such as:\n",
        "- Matrix multiplication (np.matmul() or @ operator).\n",
        "- Matrix determinant (np.linalg.det()).\n",
        "- Eigenvalues and eigenvectors (np.linalg.eig()).\n",
        "- Singular value decomposition (np.linalg.svd()).\n",
        "- Solving linear systems (np.linalg.solve())."
      ],
      "metadata": {
        "id": "iB6LPcLkOk_0"
      }
    },
    {
      "cell_type": "code",
      "source": [
        "A = np.array([[1, 2], [3, 4]])\n",
        "B = np.array([[5, 6], [7, 8]])\n",
        "result = np.matmul(A, B)\n",
        "print(result)"
      ],
      "metadata": {
        "id": "fl4xspwhOuae"
      },
      "execution_count": null,
      "outputs": []
    },
    {
      "cell_type": "markdown",
      "source": [
        "5. Random Number Generation\n",
        "\n",
        "NumPy offers a comprehensive suite of random number generation tools:\n",
        "- np.random.rand() for uniform distribution.\n",
        "- np.random.randn() for standard normal distribution.\n",
        "- np.random.randint() for random integers.\n",
        "- np.random.choice() for random sampling from a given array.\n",
        "- Example:"
      ],
      "metadata": {
        "id": "bcBkQvcWO_xo"
      }
    },
    {
      "cell_type": "code",
      "source": [
        "random_array = np.random.random((3, 3))  # Random array of shape (3, 3)\n",
        "print(random_array)"
      ],
      "metadata": {
        "id": "waY4qtxTPNGF"
      },
      "execution_count": null,
      "outputs": []
    },
    {
      "cell_type": "markdown",
      "source": [
        "6. Strides and Memory Layout\n",
        "\n",
        "- NumPy arrays are stored in contiguous blocks of memory. Advanced users can take advantage of strides, which specify how many bytes to move in each dimension when indexing arrays. This can allow for high-performance manipulation of large datasets.\n",
        "- Example:\n",
        "\n"
      ],
      "metadata": {
        "id": "QC9MqhofPUI6"
      }
    },
    {
      "cell_type": "code",
      "source": [
        "arr = np.array([[1, 2, 3], [4, 5, 6]])\n",
        "print(arr.strides)  # Output: (12, 4), which indicates memory strides"
      ],
      "metadata": {
        "id": "pa6c-CZ4PYEQ"
      },
      "execution_count": null,
      "outputs": []
    },
    {
      "cell_type": "markdown",
      "source": [
        "7. Structured Arrays\n",
        "- Structured arrays allow you to define arrays with heterogeneous data types, similar to SQL tables or DataFrame-like structures.\n",
        "- Example:\n"
      ],
      "metadata": {
        "id": "IKZIAEb6PlqD"
      }
    },
    {
      "cell_type": "code",
      "source": [
        "dtype = [('name', 'U10'), ('age', 'i4')]\n",
        "arr = np.array([('Alice', 25), ('Bob', 30)], dtype=dtype)\n",
        "print(arr['name'])  # ['Alice' 'Bob']"
      ],
      "metadata": {
        "id": "f5ObMJ0RPtKY"
      },
      "execution_count": null,
      "outputs": []
    },
    {
      "cell_type": "markdown",
      "source": [
        "8. Memory Management with np.memmap\n",
        "\n",
        "- np.memmap is used for memory-mapped file objects. It allows you to read and write to large files on disk as if they were NumPy arrays, without loading the entire file into memory.\n",
        "- Example:"
      ],
      "metadata": {
        "id": "3Fy83tw6QThj"
      }
    },
    {
      "cell_type": "code",
      "source": [
        "fp = np.memmap('large_file.dat', dtype='float32', mode='r', shape=(1000000,))\n",
        "print(fp[:10])  # Accessing first 10 elements"
      ],
      "metadata": {
        "id": "Zv_oBptSQXRM"
      },
      "execution_count": null,
      "outputs": []
    },
    {
      "cell_type": "markdown",
      "source": [
        "9. Advanced Aggregation Functions\n",
        "\n",
        "NumPy provides various advanced aggregation functions like:\n",
        "- np.apply_along_axis(): Apply a function along a specified axis.\n",
        "- np.ufunc.reduce(): Reduce an array with a cumulative operation.\n",
        "- np.ufunc.accumulate(): Accumulate results of a ufunc along an axis.\n",
        "- np.ufunc.reduceat(): Perform a reduction over slices of an array.\n",
        "- Example:"
      ],
      "metadata": {
        "id": "ABttwuumQb_W"
      }
    },
    {
      "cell_type": "code",
      "source": [
        "arr = np.array([1, 2, 3, 4, 5])\n",
        "result = np.add.accumulate(arr)  # Cumulative sum\n",
        "print(result)"
      ],
      "metadata": {
        "id": "KZ26a0qwQmWD"
      },
      "execution_count": null,
      "outputs": []
    },
    {
      "cell_type": "markdown",
      "source": [
        "10. Polynomials\n",
        "- NumPy includes a module for working with polynomials. It provides tools for creating and evaluating polynomial functions, finding roots, and performing polynomial fitting.\n",
        "- Example:\n"
      ],
      "metadata": {
        "id": "sokUMKQcQpgb"
      }
    },
    {
      "cell_type": "code",
      "source": [
        "p = np.poly1d([1, 0, -4])  # p(x) = x² - 4\n",
        "roots = p.roots  # Finding roots of the polynomial\n",
        "print(roots)"
      ],
      "metadata": {
        "id": "zH_YGBaxQwv1"
      },
      "execution_count": null,
      "outputs": []
    },
    {
      "cell_type": "markdown",
      "source": [
        "11. Element-wise Functions and Universal Functions (ufuncs)\n",
        "- Universal functions (ufuncs) are NumPy’s fast, vectorized functions for element-wise operations. They can be used for arithmetic, trigonometric, and other operations.\n",
        "- Example:"
      ],
      "metadata": {
        "id": "IAeW-JHcQzH5"
      }
    },
    {
      "cell_type": "code",
      "source": [
        "arr = np.array([1, 2, 3, 4])\n",
        "result = np.sin(arr)  # Element-wise sine function\n",
        "print(result)"
      ],
      "metadata": {
        "id": "HiZsaL0YQ7yv"
      },
      "execution_count": null,
      "outputs": []
    },
    {
      "cell_type": "markdown",
      "source": [
        "12. Parallelization with numpy and numexpr\n",
        "- NumPy allows for parallel processing of array operations on multicore systems through libraries such as Numexpr, which speeds up computations by optimizing array expressions.\n",
        "- Example:"
      ],
      "metadata": {
        "id": "uXRAKrDXQ9VW"
      }
    },
    {
      "cell_type": "code",
      "source": [
        "import numexpr as ne\n",
        "result = ne.evaluate(\"2 * arr + 3 * arr\")"
      ],
      "metadata": {
        "id": "EbVGXU5vREiG"
      },
      "execution_count": null,
      "outputs": []
    },
    {
      "cell_type": "markdown",
      "source": [
        "-----\n",
        "###Q19. How does Pandas simplify time series analysis?\n",
        "Ans. Pandas is a powerful library in Python that greatly simplifies time series analysis. It provides various tools and features to handle, manipulate, and analyze time series data with ease. Below are some key ways Pandas simplifies time series analysis:\n",
        "\n",
        "1. DateTime Indexing and Frequency Handling\n",
        "\n",
        "- DatetimeIndex: Pandas allows you to create time series data with a DatetimeIndex (or TimedeltaIndex), which provides powerful functionalities for indexing, selecting, and resampling data by time periods (e.g., daily, monthly, yearly).\n",
        "- Date/Time Parsing: Pandas can automatically parse dates from various formats when reading data from files (CSV, Excel, etc.), making it easier to work with dates in your dataset.\n",
        "- Datetime Operations: With Pandas, you can perform arithmetic and comparisons directly on the datetime index (e.g., time shifts, date subtraction).\n",
        "2. Resampling and Frequency Conversion\n",
        "\n",
        "- Resampling: You can easily resample time series data to different frequencies (e.g., converting daily data to monthly or weekly). This is done through the resample() function, which allows you to specify how to aggregate or down-sample the data (e.g., sum, mean, or other functions).\n",
        "- Upsampling: Pandas also supports upsampling (increasing frequency), such as converting yearly data to monthly or daily data, by filling in missing values using interpolation or forward/backward fill.\n",
        "3. Handling Missing Data\n",
        "- Handling NaN: Time series data often has missing values. Pandas provides easy methods to fill, interpolate, or drop missing values (fillna(), interpolate(), dropna()).\n",
        "- Forward and Backward Filling: For time series data, forward and backward filling are commonly used to propagate previous or next values when there is a gap in the data.\n",
        "4. Time-Based Indexing and Slicing\n",
        "- Subsetting Data by Time: You can slice data based on specific time ranges. Pandas allows you to select data from a specific date, month, year, or even a range of dates. This is done through methods like .loc[] or .at[].\n",
        "- Boolean Indexing: You can filter time series data based on conditions related to time, such as specific months, years, or periods (e.g., data from January 2020).\n",
        "5. Time Shifts and Lagging\n",
        "- Shifting Data: Pandas allows easy shifting of data forward or backward in time using the shift() method. This is useful for creating lag features or comparing current values with past values in a time series (e.g., calculating daily changes or moving averages).\n",
        "6. Rolling Window Operations\n",
        "- Rolling Mean/Median: Pandas provides an efficient rolling() function to perform window-based operations like moving averages, sums, or other aggregate functions. This is useful for smoothing or analyzing trends in time series.\n",
        "- Expanding Window: For cumulative statistics (e.g., cumulative sum, mean), the expanding() function is available.\n",
        "7. Time Zone Handling\n",
        "- Time Zone Conversion: Pandas can handle time series data with multiple time zones. You can easily convert time series data from one time zone to another using the tz_localize() and tz_convert() functions.\n",
        "- Automatic Time Zone Awareness: When working with datetime objects, Pandas can automatically detect and manage time zones, which is useful for data from different regions.\n",
        "8. Advanced Time Series Analysis\n",
        "- Period and Frequency Handling: Pandas supports periodic data, like monthly or quarterly data, and allows for easy conversion between different types of time-based indices (e.g., PeriodIndex).\n",
        "- Decomposition: Although not directly built into Pandas, Pandas integrates well with other libraries like statsmodels for seasonal decomposition and trend analysis, making it a great tool for advanced time series forecasting.\n",
        "9. Visualization\n",
        "- Built-in Plotting: Pandas integrates with Matplotlib, making it easy to plot time series data. You can visualize trends, seasonalities, and anomalies using line plots or other chart types directly on Pandas dataframes.\n",
        "- Time Series Plot: Plotting date or time-based indices with data points is simplified by Pandas’ automatic handling of x-axis formatting for dates.\n",
        "10. Integration with Other Libraries\n",
        "- Pandas works seamlessly with libraries like NumPy, Matplotlib, SciPy, and Statsmodels, making it easier to perform more sophisticated statistical analysis, visualizations, and modeling on time series data.\n",
        "\n",
        "EXAMPLE:"
      ],
      "metadata": {
        "id": "AMb-2hfvRQO2"
      }
    },
    {
      "cell_type": "code",
      "source": [
        "import pandas as pd\n",
        "\n",
        "# Create a date range\n",
        "dates = pd.date_range('2024-01-01', periods=6, freq='D')\n",
        "data = [10, 12, 15, 17, 13, 14]\n",
        "\n",
        "# Create a DataFrame\n",
        "df = pd.DataFrame({'date': dates, 'value': data})\n",
        "df.set_index('date', inplace=True)\n",
        "\n",
        "# Resampling to weekly frequency (mean aggregation)\n",
        "weekly_data = df.resample('W').mean()\n",
        "\n",
        "# Rolling mean with a window of 2 days\n",
        "df['rolling_mean'] = df['value'].rolling(window=2).mean()\n",
        "\n",
        "# Shifting the data by 1 period\n",
        "df['shifted'] = df['value'].shift(1)\n",
        "\n",
        "# Plot the data\n",
        "df.plot(y=['value', 'rolling_mean', 'shifted'])"
      ],
      "metadata": {
        "id": "36rRclKPUBEi"
      },
      "execution_count": null,
      "outputs": []
    },
    {
      "cell_type": "markdown",
      "source": [
        "----\n",
        "###Q20. What is the role of a pivot table in Pandas?\n",
        "Ans. In Pandas, a pivot table is a powerful tool used for summarizing, organizing, and analyzing data in a DataFrame. It helps to reshape and aggregate data, allowing you to quickly identify patterns, trends, and relationships within the data. A pivot table is particularly useful when you have large datasets and need to compute statistics (e.g., sums, averages) across different subsets of the data.\n",
        "\n",
        "- Key Roles of Pivot Tables in Pandas:\n",
        "1. Data Aggregation: Pivot tables allow you to aggregate data based on one or more categorical columns. You can specify the values you want to summarize and the aggregation function (such as sum, mean, count, etc.).\n",
        "\n",
        "2. Data Reshaping: A pivot table allows you to transform the layout of your data. It can convert long-format data into a wide format by spreading out the values of a column across new columns.\n",
        "\n",
        "3. Summarizing and Grouping: You can use pivot tables to summarize data by grouping it based on certain criteria. For example, you can calculate the average sales for different regions or months.\n",
        "\n",
        "4. Multi-Level Indexing: Pivot tables can create multi-level indices, allowing you to organize your data hierarchically. This is useful for representing complex data relationships in a compact format.\n",
        "\n",
        "####Syntax:"
      ],
      "metadata": {
        "id": "8UvdoJMKUCKR"
      }
    },
    {
      "cell_type": "code",
      "source": [
        "import pandas as pd\n",
        "\n",
        "# Create a DataFrame\n",
        "data = {\n",
        "    'Date': ['2024-01-01', '2024-01-01', '2024-01-02', '2024-01-02'],\n",
        "    'Region': ['East', 'West', 'East', 'West'],\n",
        "    'Sales': [100, 150, 200, 250]\n",
        "}\n",
        "\n",
        "df = pd.DataFrame(data)\n",
        "\n",
        "# Create a Pivot Table\n",
        "pivot = pd.pivot_table(df,\n",
        "                       values='Sales',\n",
        "                       index='Date',\n",
        "                       columns='Region',\n",
        "                       aggfunc='sum')\n",
        "\n",
        "print(pivot)\n"
      ],
      "metadata": {
        "id": "ni_Wl1UvVC7-"
      },
      "execution_count": null,
      "outputs": []
    },
    {
      "cell_type": "markdown",
      "source": [
        "Parameters:\n",
        "- values: The column(s) you want to aggregate (e.g., \"Sales\").\n",
        "- index: The column(s) to group by (e.g., \"Date\").\n",
        "- columns: The column(s) to create new columns from (e.g., \"Region\").\n",
        "- aggfunc: The aggregation function to apply (e.g., 'sum', 'mean', 'count').\n",
        "\n",
        "Benefits of Using Pivot Tables:\n",
        "1. Efficient Summarization: Pivot tables provide a quick and easy way to summarize large datasets.\n",
        "2. Data Exploration: They are excellent for exploratory data analysis (EDA) by helping to uncover hidden insights, such as trends and patterns.\n",
        "3. Customization: You can customize the aggregation function, allowing for complex calculations like averages, counts, or other statistics.\n",
        "\n",
        "-----"
      ],
      "metadata": {
        "id": "LKfY8Xu3VPo6"
      }
    },
    {
      "cell_type": "markdown",
      "source": [
        "###Q21. Why is NumPy’s array slicing faster than Python’s list slicing?\n",
        "Ans. NumPy's array slicing is faster than Python's list slicing due to several key factors that are tied to the way NumPy arrays are implemented and how they interact with memory. Here are the main reasons:\n",
        "\n",
        "1. Contiguous Memory Layout:\n",
        "\n",
        "- NumPy arrays store data in contiguous blocks of memory, meaning all elements are laid out in a single, uninterrupted memory region. This enables faster access and manipulation of elements.\n",
        "- Python lists, on the other hand, store references to objects in a list, which could be scattered across memory. When slicing a list, Python has to handle these references and may need additional overhead to manage the list structure.\n",
        "2. Vectorized Operations:\n",
        "\n",
        "- NumPy is designed to work with vectorized operations, where operations are applied to entire arrays (or slices) at once. This is highly optimized in C, making slicing and other array manipulations significantly faster than Python's list slicing, which operates in a more procedural, element-by-element fashion.\n",
        "3. Efficient Indexing and Memory Views:\n",
        "\n",
        "- NumPy slices create \"views\" into the original array. This means that when you slice a NumPy array, you're not creating a new array, but instead, you're simply creating a new reference to a portion of the original array's memory. This avoids unnecessary copying of data and thus is faster.\n",
        "- Python lists, however, create a full copy of the data when sliced, especially when using operations like list[start:end], which involves more memory allocation and copying.\n",
        "4. Low-Level Optimizations in C:\n",
        "\n",
        "- NumPy is implemented in C and has many low-level optimizations that directly manipulate memory and use efficient algorithms for array operations. These optimizations make NumPy slicing highly efficient.\n",
        "- Python lists are part of Python's standard library, which is implemented in Python and has more overhead due to being a high-level object.\n",
        "5. Less Overhead for Numerical Data:\n",
        "\n",
        "- NumPy arrays are specifically designed for numerical computations, which involve much simpler and predictable data types (e.g., integers, floats) that NumPy can process quickly.\n",
        "- Python lists, by contrast, can hold any type of object, which adds complexity to slicing operations, as each element in the list might need type checking, indirection, and other overhead.\n",
        "\n",
        "-------"
      ],
      "metadata": {
        "id": "KFDlBl5OVwtZ"
      }
    },
    {
      "cell_type": "markdown",
      "source": [
        "###Q22. What are some common use cases for Seaborn?\n",
        "Ans. Seaborn is a powerful Python data visualization library built on top of Matplotlib, which provides a high-level interface for creating attractive and informative statistical graphics. Here are some common use cases for Seaborn:\n",
        "\n",
        "1. Exploratory Data Analysis (EDA):\n",
        "\n",
        "- Univariate Distributions: Seaborn makes it easy to visualize the distribution of a single variable. For example, you can use functions like sns.histplot(), sns.kdeplot(), or sns.boxplot() to examine the distribution of numerical data.\n",
        "- Bivariate Relationships: It helps in visualizing the relationship between two variables using functions like sns.scatterplot(), sns.lineplot(), and sns.regplot().\n",
        "2. Statistical Visualizations:\n",
        "\n",
        "- Correlation Heatmaps: sns.heatmap() can be used to visualize the correlation matrix of a dataset, which is useful to understand relationships between multiple features.\n",
        "- Pair Plots: With sns.pairplot(), you can generate scatter plots of all numeric pairs in a dataset and visualize distributions on the diagonal, helping to explore relationships between features.\n",
        "3. Categorical Data Visualization:\n",
        "\n",
        "- Categorical Plotting: Seaborn has functions like sns.barplot(), sns.countplot(), sns.boxplot(), and sns.violinplot() to visualize categorical data, compare categories, and show the distribution of data within each category.\n",
        "- Categorical Scatter Plots: Functions like sns.stripplot() and sns.swarmplot() are used to display individual data points in a categorical setting.\n",
        "4. Time Series Analysis:\n",
        "\n",
        "- Time Series Plotting: Seaborn provides sns.lineplot() to visualize time series data, helping to spot trends, seasonality, and outliers.\n",
        "5. Visualizing Statistical Relationships:\n",
        "\n",
        "- Regression Plots: sns.regplot() and sns.lmplot() are used for visualizing the linear relationship between two variables with regression lines, making it useful for analyzing trends or fits.\n",
        "- Facet Grids: sns.FacetGrid can be used to create multiple plots across different subsets of the data, allowing you to examine the relationship between variables in different groups.\n",
        "6. Heatmaps and Cluster Maps:\n",
        "\n",
        "- Hierarchical Clustering: sns.clustermap() can visualize hierarchical clustering, allowing the clustering of both rows and columns based on similarity, which is useful for exploring the structure of data.\n",
        "- Correlation Heatmaps: sns.heatmap() can be used to visualize correlation matrices, as well as to show the values of a matrix with annotated colors, which helps in pattern recognition.\n",
        "7. Advanced Visualizations:\n",
        "\n",
        "- Facet and Grid Layouts: Using sns.FacetGrid or sns.pairplot(), Seaborn can create complex visualizations by splitting data across multiple dimensions, allowing for better comparisons across categories or groups.\n",
        "- Joint Distribution Plots: With sns.jointplot(), you can visualize the relationship between two variables along with their marginal distributions.\n",
        "8. Customizable Aesthetic Visualizations:\n",
        "\n",
        "- Themes and Color Palettes: Seaborn allows customization of plots with various themes (sns.set_theme()) and color palettes (sns.color_palette()), enhancing the visual appeal and making it easier to communicate data insights.\n",
        "\n",
        "-------\n",
        "-------"
      ],
      "metadata": {
        "id": "ftdSXGYWuYW-"
      }
    },
    {
      "cell_type": "markdown",
      "source": [
        "##PRACTICAL\n"
      ],
      "metadata": {
        "id": "8YCbhIq36ZQd"
      }
    },
    {
      "cell_type": "markdown",
      "source": [
        "###Q1. How do you create a 2D NumPy array and calculate the sum of each row?\n",
        "Ans. To create a 2D NumPy array and calculate the sum of each row, you can follow these steps:\n",
        "\n",
        "- Create the 2D array using numpy.array() or numpy.random for random data.\n",
        "\n",
        "- Calculate the sum of each row using the numpy.sum() function, specifying the axis=1 parameter to sum along rows."
      ],
      "metadata": {
        "id": "mF3xj5x4z-sp"
      }
    },
    {
      "cell_type": "code",
      "source": [
        "import numpy as np\n",
        "\n",
        "# Step 1: Create a 2D NumPy array (e.g., a 3x3 array)\n",
        "array = np.array([[1, 2, 3], [4, 5, 6], [7, 8, 9]])\n",
        "\n",
        "# Step 2: Calculate the sum of each row\n",
        "row_sums = np.sum(array, axis=1)\n",
        "\n",
        "print(\"Original 2D array:\")\n",
        "print(array)\n",
        "\n",
        "print(\"Sum of each row:\")\n",
        "print(row_sums)"
      ],
      "metadata": {
        "id": "lAI9SGfj0Rfo"
      },
      "execution_count": null,
      "outputs": []
    },
    {
      "cell_type": "markdown",
      "source": [
        "Explanation:\n",
        "\n",
        "- np.array([[1, 2, 3], [4, 5, 6], [7, 8, 9]]): Creates a 2D array with three rows and three columns.\n",
        "- np.sum(array, axis=1): Sums the elements along each row (axis 1 means summing across columns for each row).\n",
        "\n",
        "------"
      ],
      "metadata": {
        "id": "cf4263OV0XDi"
      }
    },
    {
      "cell_type": "markdown",
      "source": [
        "###Q2. Write a Pandas script to find the mean of a specific column in a DataFrame.\n",
        "Ans."
      ],
      "metadata": {
        "id": "Rqb_56me0cgk"
      }
    },
    {
      "cell_type": "code",
      "source": [
        "import pandas as pd\n",
        "\n",
        "# Sample DataFrame\n",
        "data = {\n",
        "    'A': [1, 2, 3, 4, 5],\n",
        "    'B': [10, 20, 30, 40, 50],\n",
        "    'C': [100, 200, 300, 400, 500]\n",
        "}\n",
        "\n",
        "df = pd.DataFrame(data)\n",
        "\n",
        "# Find the mean of column 'B'\n",
        "mean_value = df['B'].mean()\n",
        "\n",
        "print(\"Mean of column 'B':\", mean_value)"
      ],
      "metadata": {
        "id": "a_EdRVoY058v"
      },
      "execution_count": null,
      "outputs": []
    },
    {
      "cell_type": "markdown",
      "source": [
        "Explanation:\n",
        "- df['B'] selects the 'B' column from the DataFrame.\n",
        "- .mean() calculates the mean of the values in that column.\n",
        "\n",
        "-----------"
      ],
      "metadata": {
        "id": "hL607oe_06ui"
      }
    },
    {
      "cell_type": "markdown",
      "source": [
        "###Q3. Create a scatter plot using Matplotlib.\n",
        "Ans."
      ],
      "metadata": {
        "id": "Llldx7ys1JOH"
      }
    },
    {
      "cell_type": "code",
      "source": [
        "import matplotlib.pyplot as plt\n",
        "\n",
        "# Example data\n",
        "x = [1, 2, 3, 4, 5]\n",
        "y = [5, 4, 3, 2, 1]\n",
        "\n",
        "# Create scatter plot\n",
        "plt.scatter(x, y)\n",
        "\n",
        "# Add title and labels\n",
        "plt.title('Simple Scatter Plot')\n",
        "plt.xlabel('X-axis')\n",
        "plt.ylabel('Y-axis')\n",
        "\n",
        "# Show plot\n",
        "plt.show()"
      ],
      "metadata": {
        "id": "3lLc7OG91snK"
      },
      "execution_count": null,
      "outputs": []
    },
    {
      "cell_type": "markdown",
      "source": [
        "----\n",
        "###Q4.  How do you calculate the correlation matrix using Seaborn and visualize it with a heatmap?\n",
        "Ans. To calculate the correlation matrix using Seaborn and visualize it with a heatmap, we can follow these steps:\n",
        "\n",
        "1. Import the necessary libraries\n",
        "\n",
        "- We'll need Seaborn, Matplotlib, and Pandas. If we don't have them installed, we can install them via pip:\n",
        "      pip install seaborn matplotlib pandas\n",
        "\n",
        "2. Load your dataset\n",
        "- We can use any dataset in a Pandas DataFrame. For demonstration, let's use Seaborn's built-in dataset iris.\n",
        "\n",
        "3. Calculate the correlation matrix\n",
        "- Pandas provides the .corr() method to calculate the correlation matrix of a DataFrame.\n",
        "\n",
        "4. Plot the heatmap\n",
        "- Seaborn's heatmap() function can be used to visualize the correlation matrix.\n",
        "\n",
        "***Example Code:***\n"
      ],
      "metadata": {
        "id": "aTyJG1x713Y4"
      }
    },
    {
      "cell_type": "code",
      "source": [
        "import seaborn as sns\n",
        "import matplotlib.pyplot as plt\n",
        "import pandas as pd\n",
        "\n",
        "# Load a dataset (Seaborn's built-in 'iris' dataset as an example)\n",
        "df = sns.load_dataset('iris')\n",
        "\n",
        "# Calculate the correlation matrix\n",
        "corr_matrix = df.corr()\n",
        "\n",
        "# Create a heatmap to visualize the correlation matrix\n",
        "plt.figure(figsize=(10, 8))  # Set the figure size\n",
        "sns.heatmap(corr_matrix, annot=True, cmap='coolwarm', fmt='.2f', linewidths=0.5)\n",
        "\n",
        "# Display the heatmap\n",
        "plt.show()"
      ],
      "metadata": {
        "id": "H5NhdTCE2jdK"
      },
      "execution_count": null,
      "outputs": []
    },
    {
      "cell_type": "markdown",
      "source": [
        "Explanation of the Code:\n",
        "- sns.load_dataset('iris'): Loads the built-in Iris dataset as an example. Replace this with your own dataset.\n",
        "- df.corr(): Calculates the correlation matrix of the DataFrame.\n",
        "- sns.heatmap(): Visualizes the correlation matrix. The key parameters used here:\n",
        "\n",
        "- annot=True: Annotates the heatmap with the correlation values.\n",
        "- cmap='coolwarm': Sets the color palette for the heatmap.\n",
        "- fmt='.2f': Formats the correlation values to 2 decimal places.\n",
        "- linewidths=0.5: Adds slight separation between cells for clarity.\n",
        "\n",
        "-----"
      ],
      "metadata": {
        "id": "5cZGMBSX2oIB"
      }
    },
    {
      "cell_type": "markdown",
      "source": [
        "###Q5. Generate a bar plot using Plotly.\n",
        "Ans. To generate a bar plot using Plotly, we can follow this Python code. First, we need to install Plotly if we haven't done so already:\n",
        "\n",
        "    pip install plotly\n",
        "\n",
        "Then, you can create a simple bar plot:"
      ],
      "metadata": {
        "id": "bTUYPhix26Qz"
      }
    },
    {
      "cell_type": "code",
      "source": [
        "import plotly.graph_objects as go\n",
        "\n",
        "# Sample data\n",
        "categories = ['Category 1', 'Category 2', 'Category 3', 'Category 4']\n",
        "values = [10, 20, 30, 40]\n",
        "\n",
        "# Create bar plot\n",
        "fig = go.Figure(data=[go.Bar(x=categories, y=values)])\n",
        "\n",
        "# Update layout\n",
        "fig.update_layout(\n",
        "    title=\"Sample Bar Plot\",\n",
        "    xaxis_title=\"Categories\",\n",
        "    yaxis_title=\"Values\"\n",
        ")\n",
        "\n",
        "# Show plot\n",
        "fig.show()"
      ],
      "metadata": {
        "id": "SjLgsclp3iB2"
      },
      "execution_count": null,
      "outputs": []
    },
    {
      "cell_type": "markdown",
      "source": [
        "---\n",
        "###Q6. Create a DataFrame and add a new column based on an existing column.\n",
        "Ans."
      ],
      "metadata": {
        "id": "_1lwVCny3jbk"
      }
    },
    {
      "cell_type": "code",
      "source": [
        "import pandas as pd\n",
        "\n",
        "# Create a sample DataFrame\n",
        "data = {\n",
        "    'A': [10, 20, 30, 40],\n",
        "    'B': [5, 15, 25, 35]\n",
        "}\n",
        "\n",
        "df = pd.DataFrame(data)\n",
        "\n",
        "# Add a new column 'C' based on column 'A'\n",
        "df['C'] = df['A'] * 2\n",
        "\n",
        "print(df)"
      ],
      "metadata": {
        "id": "CqjPqWoq333v"
      },
      "execution_count": null,
      "outputs": []
    },
    {
      "cell_type": "markdown",
      "source": [
        "Explanation:\n",
        "- A DataFrame df is created using a dictionary data, which contains two columns ('A' and 'B').\n",
        "- A new column 'C' is added, and its values are calculated as double the values in column 'A'.\n",
        "- The updated DataFrame is then printed.\n",
        "\n",
        "------"
      ],
      "metadata": {
        "id": "T2Du3DB2346N"
      }
    },
    {
      "cell_type": "markdown",
      "source": [
        "###Q7. Write a program to perform element-wise multiplication of two NumPy arrays.\n",
        "Ans."
      ],
      "metadata": {
        "id": "t-0t8fNZ3_Ok"
      }
    },
    {
      "cell_type": "code",
      "source": [
        "import numpy as np\n",
        "\n",
        "# Create two NumPy arrays\n",
        "array1 = np.array([1, 2, 3, 4])\n",
        "array2 = np.array([5, 6, 7, 8])\n",
        "\n",
        "# Perform element-wise multiplication\n",
        "result = array1 * array2\n",
        "\n",
        "# Print the result\n",
        "print(\"Element-wise multiplication result:\", result)"
      ],
      "metadata": {
        "id": "ng9R4meb4P4W"
      },
      "execution_count": null,
      "outputs": []
    },
    {
      "cell_type": "markdown",
      "source": [
        "Explanation:\n",
        "- Importing NumPy: The program begins by importing the numpy module.\n",
        "- Creating Arrays: Two NumPy arrays array1 and array2 are created.\n",
        "- Multiplying Arrays: The * operator is used to multiply the two arrays element by element.\n",
        "- Output: The resulting array is printed.\n",
        "\n",
        "-------"
      ],
      "metadata": {
        "id": "WtL6GkxU4RWH"
      }
    },
    {
      "cell_type": "markdown",
      "source": [
        "###Q8.  Create a line plot with multiple lines using Matplotlib.\n",
        "Ans."
      ],
      "metadata": {
        "id": "NUvmpW4G4xn7"
      }
    },
    {
      "cell_type": "code",
      "source": [
        "import matplotlib.pyplot as plt\n",
        "\n",
        "# Data for the lines\n",
        "x = [1, 2, 3, 4, 5]\n",
        "y1 = [1, 4, 9, 16, 25]  # First line\n",
        "y2 = [25, 20, 15, 10, 5]  # Second line\n",
        "y3 = [1, 2, 1, 2, 1]  # Third line\n",
        "\n",
        "# Create the plot\n",
        "plt.plot(x, y1, label='y = x^2', color='r', marker='o')  # Red line with circle markers\n",
        "plt.plot(x, y2, label='y = 30 - 5x', color='g', linestyle='--')  # Green dashed line\n",
        "plt.plot(x, y3, label='y = alternating', color='b', linestyle='-.')  # Blue dash-dot line\n",
        "\n",
        "# Adding labels and title\n",
        "plt.xlabel('X-axis')\n",
        "plt.ylabel('Y-axis')\n",
        "plt.title('Multiple Line Plot')\n",
        "\n",
        "# Show the legend\n",
        "plt.legend()\n",
        "\n",
        "# Show the plot\n",
        "plt.show()"
      ],
      "metadata": {
        "id": "EgEt275L4-zL"
      },
      "execution_count": null,
      "outputs": []
    },
    {
      "cell_type": "markdown",
      "source": [
        "Explanation:\n",
        "- plt.plot() is used to create the lines. You can specify multiple lines by calling plt.plot() multiple times with different data and styling options.\n",
        "- Labeling: The label parameter in plt.plot() allows you to specify labels for each line, which will be shown in the legend.\n",
        "- Styling: Each line can have different styles (color, marker, line style) for visual differentiation.\n",
        "- Legend: plt.legend() will display the labels you provided for each line.\n",
        "\n",
        "-------"
      ],
      "metadata": {
        "id": "6m66JD1J5ANx"
      }
    },
    {
      "cell_type": "markdown",
      "source": [
        "###Q9. Generate a Pandas DataFrame and filter rows where a column value is greater than a threshold.\n",
        "Ans."
      ],
      "metadata": {
        "id": "CUcsstIj5H0T"
      }
    },
    {
      "cell_type": "code",
      "source": [
        "import pandas as pd\n",
        "\n",
        "# Sample data\n",
        "data = {\n",
        "    'A': [10, 20, 30, 40, 50],\n",
        "    'B': [5, 15, 25, 35, 45],\n",
        "    'C': [1, 2, 3, 4, 5]\n",
        "}\n",
        "\n",
        "# Create DataFrame\n",
        "df = pd.DataFrame(data)\n",
        "\n",
        "# Define the threshold\n",
        "threshold = 30\n",
        "\n",
        "# Filter rows where the values in column 'A' are greater than the threshold\n",
        "filtered_df = df[df['A'] > threshold]\n",
        "\n",
        "print(filtered_df)"
      ],
      "metadata": {
        "id": "PbsPuW728hHP"
      },
      "execution_count": null,
      "outputs": []
    },
    {
      "cell_type": "markdown",
      "source": [
        "Explanation:\n",
        "1. A DataFrame df is created using the pd.DataFrame() function with sample data.\n",
        "2. The variable threshold is set to 30.\n",
        "3. The code filters rows in which the values in column 'A' are greater than the threshold (30).\n",
        "4. The result is stored in filtered_df, which is then printed.\n",
        "\n",
        "-----"
      ],
      "metadata": {
        "id": "be0NaTB18mtB"
      }
    },
    {
      "cell_type": "markdown",
      "source": [
        "###Q10. Create a histogram using Seaborn to visualize a distribution.\n",
        "Ans. To create a histogram using Seaborn in Python, you can follow the steps below. Seaborn is a powerful visualization library built on top of Matplotlib that makes it easy to create aesthetically pleasing plots.\n",
        "\n",
        "Here's an example code to create a histogram:\n",
        "\n",
        "- Step-by-step instructions:\n",
        "1. Install Seaborn (if not already installed):\n",
        "      \n",
        "       pip install seaborn\n",
        "\n",
        "2. Import necessary libraries: You will need seaborn for the histogram and matplotlib to display the plot.\n",
        "\n",
        "3. Create a histogram: In this example, I'll generate random data for visualization.\n",
        "\n",
        "Example Code:\n",
        "\n"
      ],
      "metadata": {
        "id": "f65Z6V6W8sUs"
      }
    },
    {
      "cell_type": "code",
      "source": [
        "import seaborn as sns\n",
        "import matplotlib.pyplot as plt\n",
        "import numpy as np\n",
        "\n",
        "# Generate some random data\n",
        "data = np.random.randn(1000)  # 1000 data points from a standard normal distribution\n",
        "\n",
        "# Create the histogram using Seaborn's distplot (or histplot for newer versions of Seaborn)\n",
        "sns.histplot(data, kde=True, bins=30, color='skyblue', edgecolor='black')\n",
        "\n",
        "# Set the title and labels\n",
        "plt.title('Histogram with Seaborn')\n",
        "plt.xlabel('Value')\n",
        "plt.ylabel('Frequency')\n",
        "\n",
        "# Display the plot\n",
        "plt.show()"
      ],
      "metadata": {
        "id": "mTGivO4y-qne"
      },
      "execution_count": null,
      "outputs": []
    },
    {
      "cell_type": "markdown",
      "source": [
        "Explanation:\n",
        "- sns.histplot() is used to create the histogram. In newer versions of Seaborn (>=0.11.0), distplot() has been deprecated, and histplot() is the preferred method.\n",
        "- The kde=True argument adds a kernel density estimate (a smoothed curve) to the histogram.\n",
        "- bins=30 specifies the number of bins (bars) to be used in the histogram.\n",
        "- color and edgecolor control the color of the bars and their edges, respectively.\n",
        "- plt.show() displays the plot.\n",
        "\n",
        "--------"
      ],
      "metadata": {
        "id": "e7tyz1g8-rex"
      }
    },
    {
      "cell_type": "markdown",
      "source": [
        "###Q11. Perform matrix multiplication using NumPy.\n",
        "Ans."
      ],
      "metadata": {
        "id": "tdvyXSwX-2P2"
      }
    },
    {
      "cell_type": "code",
      "source": [
        "import numpy as np\n",
        "\n",
        "# Define two matrices A and B\n",
        "A = np.array([[1, 2], [3, 4]])\n",
        "B = np.array([[5, 6], [7, 8]])\n",
        "\n",
        "# Perform matrix multiplication using np.dot()\n",
        "result_dot = np.dot(A, B)\n",
        "\n",
        "# Or using the @ operator (Python 3.5+)\n",
        "result_at = A @ B\n",
        "\n",
        "# Print the results\n",
        "print(\"Result using np.dot():\\n\", result_dot)\n",
        "print(\"Result using @ operator:\\n\", result_at)"
      ],
      "metadata": {
        "id": "hv2oLu_-_Bx-"
      },
      "execution_count": null,
      "outputs": []
    },
    {
      "cell_type": "markdown",
      "source": [
        "Explanation:\n",
        "- np.dot(A, B) performs the matrix multiplication between matrices A and B.\n",
        "- A @ B is the same as np.dot(A, B), but it's the more modern syntax and is preferred for readability.\n",
        "\n",
        "In this example, the matrix multiplication of\n",
        "A×B results in a 2x2 matrix, as expected for two 2x2 matrices.\n",
        "\n",
        "-----"
      ],
      "metadata": {
        "id": "5BbYlHjh_Cu9"
      }
    },
    {
      "cell_type": "markdown",
      "source": [
        "###Q12. Use Pandas to load a CSV file and display its first 5 rows.\n",
        "Ans."
      ],
      "metadata": {
        "id": "QqQ2m68d_UNq"
      }
    },
    {
      "cell_type": "code",
      "source": [
        "import pandas as pd\n",
        "\n",
        "# Load the CSV file into a DataFrame\n",
        "df = pd.read_csv('your_file.csv')\n",
        "\n",
        "# Display the first 5 rows of the DataFrame\n",
        "print(df.head())"
      ],
      "metadata": {
        "id": "6j8S-6kP_i2a"
      },
      "execution_count": null,
      "outputs": []
    },
    {
      "cell_type": "markdown",
      "source": [
        "Explanation:\n",
        "- pd.read_csv('your_file.csv'): This function loads the CSV file into a pandas DataFrame.\n",
        "- df.head(): This displays the first 5 rows of the DataFrame by default. You can specify a different number of rows by passing an integer to head(), like df.head(10) for the first 10 rows.\n",
        "\n",
        "---"
      ],
      "metadata": {
        "id": "iv2Hjfuf_l3p"
      }
    },
    {
      "cell_type": "markdown",
      "source": [
        "###Q13. Create a 3D scatter plot using Plotly.\n",
        "Ans. To create a 3D scatter plot using Plotly in Python, you'll need to follow these steps. I'll provide you with a simple code example that demonstrates how to do this. The code generates random data points and visualizes them in 3D space.\n",
        "\n",
        "1. Install Plotly\n",
        "- If we don't have Plotly installed, we can install it using pip:\n",
        "\n",
        "      pip install plotly\n",
        "\n",
        "2. Python Code for 3D Scatter Plot\n"
      ],
      "metadata": {
        "id": "EuAXxj9__uMJ"
      }
    },
    {
      "cell_type": "code",
      "source": [
        "import plotly.express as px\n",
        "import numpy as np\n",
        "import pandas as pd\n",
        "\n",
        "# Generate random data for the scatter plot\n",
        "np.random.seed(42)  # For reproducibility\n",
        "n_points = 100\n",
        "\n",
        "x = np.random.randn(n_points)\n",
        "y = np.random.randn(n_points)\n",
        "z = np.random.randn(n_points)\n",
        "\n",
        "# Create a DataFrame to hold the data\n",
        "df = pd.DataFrame({\n",
        "    'x': x,\n",
        "    'y': y,\n",
        "    'z': z\n",
        "})\n",
        "\n",
        "# Create the 3D scatter plot\n",
        "fig = px.scatter_3d(df, x='x', y='y', z='z', title=\"3D Scatter Plot\", labels={'x': 'X Axis', 'y': 'Y Axis', 'z': 'Z Axis'})\n",
        "\n",
        "# Show the plot\n",
        "fig.show()"
      ],
      "metadata": {
        "id": "kb53Q0pBATSI"
      },
      "execution_count": null,
      "outputs": []
    },
    {
      "cell_type": "markdown",
      "source": [
        "Explanation of the Code:\n",
        "- Data Generation: Random data for x, y, and z is generated using numpy.random.randn().\n",
        "- DataFrame: The data is stored in a pandas.DataFrame for easy manipulation and plotting.\n",
        "- Plotly Plot: px.scatter_3d() is used to generate the 3D scatter plot. The x, y, and z arguments define the data columns for each axis.\n",
        "- Plot Display: fig.show() displays the plot in an interactive window.\n",
        "\n",
        "-----\n",
        "-----"
      ],
      "metadata": {
        "id": "PlqO_0sKAfS5"
      }
    }
  ]
}